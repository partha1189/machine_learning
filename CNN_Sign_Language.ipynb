{
  "nbformat": 4,
  "nbformat_minor": 0,
  "metadata": {
    "colab": {
      "name": "CNN_Sign_Language.ipynb",
      "provenance": [],
      "authorship_tag": "ABX9TyNY4eWv/iSLe3KmNrEWTrKb",
      "include_colab_link": true
    },
    "kernelspec": {
      "name": "python3",
      "display_name": "Python 3"
    },
    "accelerator": "GPU"
  },
  "cells": [
    {
      "cell_type": "markdown",
      "metadata": {
        "id": "view-in-github",
        "colab_type": "text"
      },
      "source": [
        "<a href=\"https://colab.research.google.com/github/partha1189/machine_learning/blob/tf_2.0_practice/CNN_Sign_Language.ipynb\" target=\"_parent\"><img src=\"https://colab.research.google.com/assets/colab-badge.svg\" alt=\"Open In Colab\"/></a>"
      ]
    },
    {
      "cell_type": "code",
      "metadata": {
        "id": "j8SkzXxFXHDA"
      },
      "source": [
        "import csv\n",
        "import numpy as np\n",
        "import tensorflow as tf\n",
        "from tensorflow.keras.preprocessing.image import ImageDataGenerator"
      ],
      "execution_count": 1,
      "outputs": []
    },
    {
      "cell_type": "code",
      "metadata": {
        "id": "ESdWYY2gOC7l",
        "outputId": "46e473e0-dd0d-4c05-b437-3703829cc65d",
        "colab": {
          "base_uri": "https://localhost:8080/",
          "height": 34
        }
      },
      "source": [
        "!pwd"
      ],
      "execution_count": 2,
      "outputs": [
        {
          "output_type": "stream",
          "text": [
            "/content\n"
          ],
          "name": "stdout"
        }
      ]
    },
    {
      "cell_type": "code",
      "metadata": {
        "id": "n_M0aOJ6X-1p",
        "outputId": "cbec4306-4b77-4a06-8800-1810655c0ad6",
        "colab": {
          "base_uri": "https://localhost:8080/",
          "height": 68
        }
      },
      "source": [
        "!ls -l ./data"
      ],
      "execution_count": 3,
      "outputs": [
        {
          "output_type": "stream",
          "text": [
            "total 102604\n",
            "-rw-r--r-- 1 root root 21777485 Oct  1 03:34 sign_mnist_test.csv\n",
            "-rw-r--r-- 1 root root 83281065 Oct  1 03:36 sign_mnist_train.csv\n"
          ],
          "name": "stdout"
        }
      ]
    },
    {
      "cell_type": "code",
      "metadata": {
        "id": "LUkoA9oNYC2f"
      },
      "source": [
        "def get_data(filename):\n",
        "  images = []\n",
        "  labels = []\n",
        "  with open(filename) as training_file:\n",
        "    reader = csv.reader(training_file, delimiter=',')\n",
        "    next(reader)\n",
        "    for row in reader:\n",
        "      label = row[0]\n",
        "      labels.append(label)\n",
        "      #labels.append( np.array(row[0]).astype('int'))\n",
        "      image = row[1:785]\n",
        "      images_data_as_array = np.array_split(image, 28)\n",
        "      #image = np.array_split(image, 28)\n",
        "      #image = np.array(image)#.astype('float')\n",
        "      #print(image.shape)\n",
        "      images.append(images_data_as_array)\n",
        "    imgs = np.array(images).astype('float')\n",
        "    #imgs = np.array_split(imgs, 28)    \n",
        "    print(type(labels))\n",
        "    print(type(imgs)) \n",
        "  return imgs,np.array(labels).astype('float')"
      ],
      "execution_count": 4,
      "outputs": []
    },
    {
      "cell_type": "code",
      "metadata": {
        "id": "M3-iX-3dbuuk",
        "outputId": "9a36f32b-cd1d-4649-bc8f-a14bc40bb2e9",
        "colab": {
          "base_uri": "https://localhost:8080/",
          "height": 85
        }
      },
      "source": [
        "training_images, training_labels = get_data('./data/sign_mnist_train.csv')\n",
        "testing_images, testing_labels = get_data('./data/sign_mnist_test.csv')"
      ],
      "execution_count": 5,
      "outputs": [
        {
          "output_type": "stream",
          "text": [
            "<class 'list'>\n",
            "<class 'numpy.ndarray'>\n",
            "<class 'list'>\n",
            "<class 'numpy.ndarray'>\n"
          ],
          "name": "stdout"
        }
      ]
    },
    {
      "cell_type": "code",
      "metadata": {
        "id": "-2u6UX--jvgN",
        "outputId": "7a1dade6-7773-4291-de4e-46ddec52f912",
        "colab": {
          "base_uri": "https://localhost:8080/",
          "height": 34
        }
      },
      "source": [
        "type(training_images)"
      ],
      "execution_count": 6,
      "outputs": [
        {
          "output_type": "execute_result",
          "data": {
            "text/plain": [
              "numpy.ndarray"
            ]
          },
          "metadata": {
            "tags": []
          },
          "execution_count": 6
        }
      ]
    },
    {
      "cell_type": "code",
      "metadata": {
        "id": "-5_3j9hORSng",
        "outputId": "01fe6968-f456-4221-d6a5-3dd422fc0f09",
        "colab": {
          "base_uri": "https://localhost:8080/",
          "height": 34
        }
      },
      "source": [
        "training_images.shape"
      ],
      "execution_count": 7,
      "outputs": [
        {
          "output_type": "execute_result",
          "data": {
            "text/plain": [
              "(27455, 28, 28)"
            ]
          },
          "metadata": {
            "tags": []
          },
          "execution_count": 7
        }
      ]
    },
    {
      "cell_type": "code",
      "metadata": {
        "id": "2IaPwjW6SfyG"
      },
      "source": [
        "training_images = np.expand_dims(training_images, axis = -1)\n",
        "testing_images = np.expand_dims(testing_images, axis = -1)"
      ],
      "execution_count": 8,
      "outputs": []
    },
    {
      "cell_type": "code",
      "metadata": {
        "id": "DmtZ9zzJTF4Y",
        "outputId": "7b420f54-19e7-48ea-9624-0aa34378ad6a",
        "colab": {
          "base_uri": "https://localhost:8080/",
          "height": 34
        }
      },
      "source": [
        "training_images.shape"
      ],
      "execution_count": 9,
      "outputs": [
        {
          "output_type": "execute_result",
          "data": {
            "text/plain": [
              "(27455, 28, 28, 1)"
            ]
          },
          "metadata": {
            "tags": []
          },
          "execution_count": 9
        }
      ]
    },
    {
      "cell_type": "code",
      "metadata": {
        "id": "LPynJDJFTM-W",
        "outputId": "5f10a4f7-8c88-42e8-b735-9f3be8b42e7a",
        "colab": {
          "base_uri": "https://localhost:8080/",
          "height": 34
        }
      },
      "source": [
        "training_images[0].shape"
      ],
      "execution_count": 10,
      "outputs": [
        {
          "output_type": "execute_result",
          "data": {
            "text/plain": [
              "(28, 28, 1)"
            ]
          },
          "metadata": {
            "tags": []
          },
          "execution_count": 10
        }
      ]
    },
    {
      "cell_type": "code",
      "metadata": {
        "id": "DTSFNCwXTHY9"
      },
      "source": [
        "train_datagen = ImageDataGenerator(rescale=1/255.0,\n",
        "                                   rotation_range = 10,\n",
        "                                   width_shift_range = 0.2,\n",
        "                                   height_shift_range = 0.2,\n",
        "                                   zoom_range = 0.2,\n",
        "                                   shear_range = 0.2,\n",
        "                                   horizontal_flip = True\n",
        "                                   )"
      ],
      "execution_count": 11,
      "outputs": []
    },
    {
      "cell_type": "code",
      "metadata": {
        "id": "gc-u9CCgZnrQ"
      },
      "source": [
        "validation_datagen = ImageDataGenerator(\n",
        "    rescale=1/255.0)"
      ],
      "execution_count": 12,
      "outputs": []
    },
    {
      "cell_type": "code",
      "metadata": {
        "id": "vBEGH8LgZvK0",
        "outputId": "a48c754a-a2eb-4beb-818a-3bb5e9beaf5d",
        "colab": {
          "base_uri": "https://localhost:8080/",
          "height": 51
        }
      },
      "source": [
        "print(training_images.shape)\n",
        "print(testing_images.shape)"
      ],
      "execution_count": 13,
      "outputs": [
        {
          "output_type": "stream",
          "text": [
            "(27455, 28, 28, 1)\n",
            "(7172, 28, 28, 1)\n"
          ],
          "name": "stdout"
        }
      ]
    },
    {
      "cell_type": "code",
      "metadata": {
        "id": "fGRLKxX9Zwwd"
      },
      "source": [
        "model = tf.keras.models.Sequential([\n",
        "   tf.keras.layers.Conv2D(32, (3, 3), activation='relu', input_shape = (28, 28, 1)),\n",
        "   tf.keras.layers.MaxPool2D(2, 2),\n",
        "   tf.keras.layers.Conv2D(64, (3, 3), activation='relu'),\n",
        "   tf.keras.layers.MaxPool2D(2, 2),\n",
        "   tf.keras.layers.Flatten(),\n",
        "   tf.keras.layers.Dense(512, activation='relu'),\n",
        "   tf.keras.layers.Dropout(0.2),\n",
        "   tf.keras.layers.Dense(26, activation='softmax')                                   \n",
        "])"
      ],
      "execution_count": 14,
      "outputs": []
    },
    {
      "cell_type": "code",
      "metadata": {
        "id": "CDfCvc17asEW",
        "outputId": "70b7bf35-95a6-4f38-9145-9bac28290427",
        "colab": {
          "base_uri": "https://localhost:8080/",
          "height": 425
        }
      },
      "source": [
        "model.summary()"
      ],
      "execution_count": 15,
      "outputs": [
        {
          "output_type": "stream",
          "text": [
            "Model: \"sequential\"\n",
            "_________________________________________________________________\n",
            "Layer (type)                 Output Shape              Param #   \n",
            "=================================================================\n",
            "conv2d (Conv2D)              (None, 26, 26, 32)        320       \n",
            "_________________________________________________________________\n",
            "max_pooling2d (MaxPooling2D) (None, 13, 13, 32)        0         \n",
            "_________________________________________________________________\n",
            "conv2d_1 (Conv2D)            (None, 11, 11, 64)        18496     \n",
            "_________________________________________________________________\n",
            "max_pooling2d_1 (MaxPooling2 (None, 5, 5, 64)          0         \n",
            "_________________________________________________________________\n",
            "flatten (Flatten)            (None, 1600)              0         \n",
            "_________________________________________________________________\n",
            "dense (Dense)                (None, 512)               819712    \n",
            "_________________________________________________________________\n",
            "dropout (Dropout)            (None, 512)               0         \n",
            "_________________________________________________________________\n",
            "dense_1 (Dense)              (None, 26)                13338     \n",
            "=================================================================\n",
            "Total params: 851,866\n",
            "Trainable params: 851,866\n",
            "Non-trainable params: 0\n",
            "_________________________________________________________________\n"
          ],
          "name": "stdout"
        }
      ]
    },
    {
      "cell_type": "code",
      "metadata": {
        "id": "bFUK0FTlatqD"
      },
      "source": [
        "model.compile(loss='sparse_categorical_crossentropy',\n",
        "              optimizer = 'adam',\n",
        "              metrics = ['accuracy'])"
      ],
      "execution_count": 16,
      "outputs": []
    },
    {
      "cell_type": "code",
      "metadata": {
        "id": "5tPTgTX5cYG4"
      },
      "source": [
        "train_datagen.fit(training_images)\n",
        "validation_datagen.fit(testing_images)"
      ],
      "execution_count": 17,
      "outputs": []
    },
    {
      "cell_type": "code",
      "metadata": {
        "id": "1AfXK1E0a_zc",
        "outputId": "cf5c822c-bdaa-4489-ef95-2b029326dc3b",
        "colab": {
          "base_uri": "https://localhost:8080/",
          "height": 901
        }
      },
      "source": [
        "history = model.fit(train_datagen.flow(training_images, training_labels, batch_size=32), steps_per_epoch = len(training_images)/32, epochs=25, validation_data=validation_datagen.flow(testing_images, testing_labels, batch_size=32), validation_steps = len(testing_images)/32,verbose=2)\n",
        "\n",
        "model.evaluate(testing_images, testing_labels)"
      ],
      "execution_count": 18,
      "outputs": [
        {
          "output_type": "stream",
          "text": [
            "Epoch 1/25\n",
            "858/857 - 8s - loss: 2.4819 - accuracy: 0.2359 - val_loss: 1.4336 - val_accuracy: 0.5007\n",
            "Epoch 2/25\n",
            "858/857 - 8s - loss: 1.4865 - accuracy: 0.5147 - val_loss: 0.8650 - val_accuracy: 0.6893\n",
            "Epoch 3/25\n",
            "858/857 - 8s - loss: 1.1030 - accuracy: 0.6326 - val_loss: 0.5785 - val_accuracy: 0.7904\n",
            "Epoch 4/25\n",
            "858/857 - 8s - loss: 0.8844 - accuracy: 0.7050 - val_loss: 0.4741 - val_accuracy: 0.8451\n",
            "Epoch 5/25\n",
            "858/857 - 8s - loss: 0.7502 - accuracy: 0.7479 - val_loss: 0.4087 - val_accuracy: 0.8677\n",
            "Epoch 6/25\n",
            "858/857 - 8s - loss: 0.6455 - accuracy: 0.7827 - val_loss: 0.2799 - val_accuracy: 0.9098\n",
            "Epoch 7/25\n",
            "858/857 - 8s - loss: 0.5685 - accuracy: 0.8081 - val_loss: 0.2687 - val_accuracy: 0.9092\n",
            "Epoch 8/25\n",
            "858/857 - 8s - loss: 0.5101 - accuracy: 0.8302 - val_loss: 0.2078 - val_accuracy: 0.9357\n",
            "Epoch 9/25\n",
            "858/857 - 8s - loss: 0.4605 - accuracy: 0.8473 - val_loss: 0.1637 - val_accuracy: 0.9498\n",
            "Epoch 10/25\n",
            "858/857 - 8s - loss: 0.4222 - accuracy: 0.8590 - val_loss: 0.1412 - val_accuracy: 0.9518\n",
            "Epoch 11/25\n",
            "858/857 - 8s - loss: 0.3935 - accuracy: 0.8657 - val_loss: 0.1345 - val_accuracy: 0.9625\n",
            "Epoch 12/25\n",
            "858/857 - 8s - loss: 0.3619 - accuracy: 0.8777 - val_loss: 0.1185 - val_accuracy: 0.9584\n",
            "Epoch 13/25\n",
            "858/857 - 8s - loss: 0.3408 - accuracy: 0.8861 - val_loss: 0.1162 - val_accuracy: 0.9600\n",
            "Epoch 14/25\n",
            "858/857 - 8s - loss: 0.3196 - accuracy: 0.8929 - val_loss: 0.0691 - val_accuracy: 0.9782\n",
            "Epoch 15/25\n",
            "858/857 - 9s - loss: 0.3113 - accuracy: 0.8963 - val_loss: 0.0643 - val_accuracy: 0.9766\n",
            "Epoch 16/25\n",
            "858/857 - 8s - loss: 0.2871 - accuracy: 0.9030 - val_loss: 0.0540 - val_accuracy: 0.9837\n",
            "Epoch 17/25\n",
            "858/857 - 8s - loss: 0.2747 - accuracy: 0.9078 - val_loss: 0.0493 - val_accuracy: 0.9876\n",
            "Epoch 18/25\n",
            "858/857 - 8s - loss: 0.2587 - accuracy: 0.9123 - val_loss: 0.1058 - val_accuracy: 0.9624\n",
            "Epoch 19/25\n",
            "858/857 - 8s - loss: 0.2548 - accuracy: 0.9160 - val_loss: 0.0619 - val_accuracy: 0.9819\n",
            "Epoch 20/25\n",
            "858/857 - 8s - loss: 0.2429 - accuracy: 0.9191 - val_loss: 0.0308 - val_accuracy: 0.9939\n",
            "Epoch 21/25\n",
            "858/857 - 8s - loss: 0.2300 - accuracy: 0.9233 - val_loss: 0.0568 - val_accuracy: 0.9819\n",
            "Epoch 22/25\n",
            "858/857 - 8s - loss: 0.2253 - accuracy: 0.9227 - val_loss: 0.0290 - val_accuracy: 0.9918\n",
            "Epoch 23/25\n",
            "858/857 - 8s - loss: 0.2122 - accuracy: 0.9282 - val_loss: 0.0286 - val_accuracy: 0.9901\n",
            "Epoch 24/25\n",
            "858/857 - 9s - loss: 0.2121 - accuracy: 0.9281 - val_loss: 0.0253 - val_accuracy: 0.9947\n",
            "Epoch 25/25\n",
            "858/857 - 9s - loss: 0.2083 - accuracy: 0.9306 - val_loss: 0.0131 - val_accuracy: 0.9985\n",
            "225/225 [==============================] - 0s 2ms/step - loss: 51.8044 - accuracy: 0.8751\n"
          ],
          "name": "stdout"
        },
        {
          "output_type": "execute_result",
          "data": {
            "text/plain": [
              "[51.80439376831055, 0.8750697374343872]"
            ]
          },
          "metadata": {
            "tags": []
          },
          "execution_count": 18
        }
      ]
    },
    {
      "cell_type": "code",
      "metadata": {
        "id": "lwtFFyf9bwSD",
        "outputId": "786bf56d-fc40-4530-8222-7544d71c9569",
        "colab": {
          "base_uri": "https://localhost:8080/",
          "height": 545
        }
      },
      "source": [
        "%matplotlib inline\n",
        "import matplotlib.pyplot as plt\n",
        "acc = history.history['accuracy']\n",
        "val_acc = history.history['val_accuracy']\n",
        "loss = history.history['loss']\n",
        "val_loss = history.history['val_loss']\n",
        "\n",
        "epochs = range(len(acc))\n",
        "\n",
        "plt.plot(epochs, acc, 'r', label='Training accuracy')\n",
        "plt.plot(epochs, val_acc, 'b', label='Validation accuracy')\n",
        "plt.title('Training and validation accuracy')\n",
        "plt.legend()\n",
        "plt.figure()\n",
        "\n",
        "plt.plot(epochs, loss, 'r', label='Training Loss')\n",
        "plt.plot(epochs, val_loss, 'b', label='Validation Loss')\n",
        "plt.title('Training and validation loss')\n",
        "plt.legend()\n",
        "\n",
        "plt.show()"
      ],
      "execution_count": 20,
      "outputs": [
        {
          "output_type": "display_data",
          "data": {
            "image/png": "[encoded data removed]",
            "text/plain": [
              "<Figure size 432x288 with 1 Axes>"
            ]
          },
          "metadata": {
            "tags": [],
            "needs_background": "light"
          }
        },
        {
          "output_type": "display_data",
          "data": {
            "image/png": "[encoded data removed]",
            "text/plain": [
              "<Figure size 432x288 with 1 Axes>"
            ]
          },
          "metadata": {
            "tags": [],
            "needs_background": "light"
          }
        }
      ]
    },
    {
      "cell_type": "code",
      "metadata": {
        "id": "NctPTcFWxnWe"
      },
      "source": [
        ""
      ],
      "execution_count": null,
      "outputs": []
    }
  ]
}