{
  "nbformat": 4,
  "nbformat_minor": 0,
  "metadata": {
    "colab": {
      "name": "KannadaMNIST_Keras.ipynb",
      "provenance": [],
      "authorship_tag": "ABX9TyPdI4C/KLEDZRxpIY2M7JLW",
      "include_colab_link": true
    },
    "kernelspec": {
      "name": "python3",
      "display_name": "Python 3"
    },
    "accelerator": "GPU"
  },
  "cells": [
    {
      "cell_type": "markdown",
      "metadata": {
        "id": "view-in-github",
        "colab_type": "text"
      },
      "source": [
        "<a href=\"https://colab.research.google.com/github/partha1189/ml/blob/master/KannadaMNIST_Keras.ipynb\" target=\"_parent\"><img src=\"https://colab.research.google.com/assets/colab-badge.svg\" alt=\"Open In Colab\"/></a>"
      ]
    },
    {
      "cell_type": "code",
      "metadata": {
        "id": "kzbiL9xfZELQ",
        "colab_type": "code",
        "colab": {}
      },
      "source": [
        "import tensorflow as tf\n",
        "import numpy as np\n",
        "%matplotlib inline\n",
        "import matplotlib.pyplot as plt"
      ],
      "execution_count": 1,
      "outputs": []
    },
    {
      "cell_type": "code",
      "metadata": {
        "id": "gy4W_ZsIs43a",
        "colab_type": "code",
        "colab": {}
      },
      "source": [
        "import csv"
      ],
      "execution_count": 2,
      "outputs": []
    },
    {
      "cell_type": "code",
      "metadata": {
        "id": "GdJK0oM6thmH",
        "colab_type": "code",
        "colab": {}
      },
      "source": [
        "labels = []\n",
        "data = []"
      ],
      "execution_count": 3,
      "outputs": []
    },
    {
      "cell_type": "code",
      "metadata": {
        "id": "_4bZeBXCsr5-",
        "colab_type": "code",
        "colab": {}
      },
      "source": [
        "with open('train.csv', 'r') as file:\n",
        "  reader = csv.reader(file)\n",
        "  next(reader)\n",
        "  for row in reader:\n",
        "    labels.append(row[0])\n",
        "    data.append(row[1:])\n",
        "train_data = np.array(data, dtype='uint8')\n",
        "train_label = np.array(labels, dtype='uint8')"
      ],
      "execution_count": 4,
      "outputs": []
    },
    {
      "cell_type": "code",
      "metadata": {
        "id": "P7x4bhK_uv6-",
        "colab_type": "code",
        "colab": {
          "base_uri": "https://localhost:8080/",
          "height": 34
        },
        "outputId": "ec06c2c8-a4bb-4fe2-d1c3-f7087651fffe"
      },
      "source": [
        "train_data.shape"
      ],
      "execution_count": 5,
      "outputs": [
        {
          "output_type": "execute_result",
          "data": {
            "text/plain": [
              "(60000, 784)"
            ]
          },
          "metadata": {
            "tags": []
          },
          "execution_count": 5
        }
      ]
    },
    {
      "cell_type": "code",
      "metadata": {
        "id": "VmaCgWJguy0l",
        "colab_type": "code",
        "colab": {}
      },
      "source": [
        "from tensorflow.keras.preprocessing import  image"
      ],
      "execution_count": 6,
      "outputs": []
    },
    {
      "cell_type": "code",
      "metadata": {
        "id": "-kBHKiWou8_F",
        "colab_type": "code",
        "colab": {}
      },
      "source": [
        "train_data = train_data.reshape(-1, 28, 28)"
      ],
      "execution_count": 7,
      "outputs": []
    },
    {
      "cell_type": "code",
      "metadata": {
        "id": "PELzk3nIvD09",
        "colab_type": "code",
        "colab": {
          "base_uri": "https://localhost:8080/",
          "height": 34
        },
        "outputId": "193d9c44-181d-44b3-ee78-2aa130ed116c"
      },
      "source": [
        "train_data.shape"
      ],
      "execution_count": 8,
      "outputs": [
        {
          "output_type": "execute_result",
          "data": {
            "text/plain": [
              "(60000, 28, 28)"
            ]
          },
          "metadata": {
            "tags": []
          },
          "execution_count": 8
        }
      ]
    },
    {
      "cell_type": "code",
      "metadata": {
        "id": "XJkKEplovGKF",
        "colab_type": "code",
        "colab": {}
      },
      "source": [
        "train_data = np.expand_dims(train_data,axis=3)"
      ],
      "execution_count": 9,
      "outputs": []
    },
    {
      "cell_type": "code",
      "metadata": {
        "id": "YsW46dlJvW3o",
        "colab_type": "code",
        "colab": {
          "base_uri": "https://localhost:8080/",
          "height": 34
        },
        "outputId": "94a155a9-cd6b-42e4-9f6d-4a32a8b1a34e"
      },
      "source": [
        "train_data.shape"
      ],
      "execution_count": 10,
      "outputs": [
        {
          "output_type": "execute_result",
          "data": {
            "text/plain": [
              "(60000, 28, 28, 1)"
            ]
          },
          "metadata": {
            "tags": []
          },
          "execution_count": 10
        }
      ]
    },
    {
      "cell_type": "code",
      "metadata": {
        "id": "z7mk1aunvbZu",
        "colab_type": "code",
        "colab": {}
      },
      "source": [
        "img = image.array_to_img(train_data[12])"
      ],
      "execution_count": 11,
      "outputs": []
    },
    {
      "cell_type": "code",
      "metadata": {
        "id": "Wx5Ct5s-vk2M",
        "colab_type": "code",
        "colab": {}
      },
      "source": [
        "img.show()"
      ],
      "execution_count": 12,
      "outputs": []
    },
    {
      "cell_type": "code",
      "metadata": {
        "id": "ae1c1T8qv7R6",
        "colab_type": "code",
        "colab": {
          "base_uri": "https://localhost:8080/",
          "height": 282
        },
        "outputId": "cd58ed8d-fad2-444a-f5e8-006d0e3e9819"
      },
      "source": [
        "plt.imshow(img)"
      ],
      "execution_count": 13,
      "outputs": [
        {
          "output_type": "execute_result",
          "data": {
            "text/plain": [
              "<matplotlib.image.AxesImage at 0x7f6ed0f67a20>"
            ]
          },
          "metadata": {
            "tags": []
          },
          "execution_count": 13
        },
        {
          "output_type": "display_data",
          "data": {
            "image/png": "[encoded data removed]",
            "text/plain": [
              "<Figure size 432x288 with 1 Axes>"
            ]
          },
          "metadata": {
            "tags": [],
            "needs_background": "light"
          }
        }
      ]
    },
    {
      "cell_type": "code",
      "metadata": {
        "id": "0Fw-AU6bv9uV",
        "colab_type": "code",
        "colab": {
          "base_uri": "https://localhost:8080/",
          "height": 34
        },
        "outputId": "3dc5be34-e790-4540-bfb5-40a415978ba2"
      },
      "source": [
        "train_label[12]"
      ],
      "execution_count": 14,
      "outputs": [
        {
          "output_type": "execute_result",
          "data": {
            "text/plain": [
              "2"
            ]
          },
          "metadata": {
            "tags": []
          },
          "execution_count": 14
        }
      ]
    },
    {
      "cell_type": "code",
      "metadata": {
        "id": "-KZjkQ-uzILO",
        "colab_type": "code",
        "colab": {}
      },
      "source": [
        "labels = []\n",
        "data = []"
      ],
      "execution_count": 15,
      "outputs": []
    },
    {
      "cell_type": "code",
      "metadata": {
        "id": "XBg3ycbGwrPe",
        "colab_type": "code",
        "colab": {}
      },
      "source": [
        "with open('test.csv', 'r') as file:\n",
        "  reader = csv.reader(file)\n",
        "  next(reader)\n",
        "  for row in reader:\n",
        "    labels.append(row[0])\n",
        "    data.append(row[1:])\n",
        "test_data = np.array(data, dtype='uint8')\n",
        "test_label = np.array(labels, dtype='uint8')"
      ],
      "execution_count": 16,
      "outputs": []
    },
    {
      "cell_type": "code",
      "metadata": {
        "id": "o9uYAPOqzXK8",
        "colab_type": "code",
        "colab": {
          "base_uri": "https://localhost:8080/",
          "height": 34
        },
        "outputId": "d8527eac-2856-4f8f-a5e4-4c521a084c5f"
      },
      "source": [
        "test_data.shape"
      ],
      "execution_count": 17,
      "outputs": [
        {
          "output_type": "execute_result",
          "data": {
            "text/plain": [
              "(5000, 784)"
            ]
          },
          "metadata": {
            "tags": []
          },
          "execution_count": 17
        }
      ]
    },
    {
      "cell_type": "code",
      "metadata": {
        "id": "BjR11mSCzbRz",
        "colab_type": "code",
        "colab": {}
      },
      "source": [
        "test_data = test_data.reshape(-1, 28, 28)\n",
        "test_data = np.expand_dims(test_data,axis=3)"
      ],
      "execution_count": 18,
      "outputs": []
    },
    {
      "cell_type": "code",
      "metadata": {
        "id": "gG1knx7HziA_",
        "colab_type": "code",
        "colab": {
          "base_uri": "https://localhost:8080/",
          "height": 34
        },
        "outputId": "d495ca0b-ec08-4319-af10-cdcc5adbe587"
      },
      "source": [
        "test_data.shape"
      ],
      "execution_count": 19,
      "outputs": [
        {
          "output_type": "execute_result",
          "data": {
            "text/plain": [
              "(5000, 28, 28, 1)"
            ]
          },
          "metadata": {
            "tags": []
          },
          "execution_count": 19
        }
      ]
    },
    {
      "cell_type": "code",
      "metadata": {
        "id": "YBrTBPrhzijU",
        "colab_type": "code",
        "colab": {}
      },
      "source": [
        "train_data_final = train_data[:50000]\n",
        "train_label_final = train_label[:50000]\n",
        "valid_data = train_data[50000:]\n",
        "valid_label = train_label[50000:]"
      ],
      "execution_count": 20,
      "outputs": []
    },
    {
      "cell_type": "code",
      "metadata": {
        "id": "-qSaVONSz2lb",
        "colab_type": "code",
        "colab": {
          "base_uri": "https://localhost:8080/",
          "height": 34
        },
        "outputId": "06aa01c1-1744-45be-9891-57542992bdf3"
      },
      "source": [
        "valid_data.shape"
      ],
      "execution_count": 21,
      "outputs": [
        {
          "output_type": "execute_result",
          "data": {
            "text/plain": [
              "(10000, 28, 28, 1)"
            ]
          },
          "metadata": {
            "tags": []
          },
          "execution_count": 21
        }
      ]
    },
    {
      "cell_type": "code",
      "metadata": {
        "id": "M7Radw4iz5GD",
        "colab_type": "code",
        "colab": {
          "base_uri": "https://localhost:8080/",
          "height": 425
        },
        "outputId": "1d8b8374-5a3a-4608-9fba-2fcb8633201e"
      },
      "source": [
        "model = tf.keras.Sequential([\n",
        "   tf.keras.layers.Conv2D(32, (3, 3), input_shape=(28, 28 , 1), activation=tf.keras.activations.relu),\n",
        "   tf.keras.layers.MaxPool2D(2, 2),\n",
        "   tf.keras.layers.Conv2D(64, (3, 3), activation=tf.keras.activations.relu),\n",
        "   tf.keras.layers.MaxPool2D(2, 2), \n",
        "  #  tf.keras.layers.Conv2D(64, (3, 3), activation=tf.keras.activations.relu),\n",
        "  #  tf.keras.layers.MaxPool2D(2, 2),\n",
        "   tf.keras.layers.Flatten(),\n",
        "   tf.keras.layers.Dense(512, activation='relu'),\n",
        "   tf.keras.layers.Dropout(0.2),\n",
        "   tf.keras.layers.Dense(10, activation='softmax')                           \n",
        "])\n",
        "\n",
        "model.summary()"
      ],
      "execution_count": 23,
      "outputs": [
        {
          "output_type": "stream",
          "text": [
            "Model: \"sequential_1\"\n",
            "_________________________________________________________________\n",
            "Layer (type)                 Output Shape              Param #   \n",
            "=================================================================\n",
            "conv2d_3 (Conv2D)            (None, 26, 26, 32)        320       \n",
            "_________________________________________________________________\n",
            "max_pooling2d_3 (MaxPooling2 (None, 13, 13, 32)        0         \n",
            "_________________________________________________________________\n",
            "conv2d_4 (Conv2D)            (None, 11, 11, 64)        18496     \n",
            "_________________________________________________________________\n",
            "max_pooling2d_4 (MaxPooling2 (None, 5, 5, 64)          0         \n",
            "_________________________________________________________________\n",
            "flatten_1 (Flatten)          (None, 1600)              0         \n",
            "_________________________________________________________________\n",
            "dense_2 (Dense)              (None, 512)               819712    \n",
            "_________________________________________________________________\n",
            "dropout_1 (Dropout)          (None, 512)               0         \n",
            "_________________________________________________________________\n",
            "dense_3 (Dense)              (None, 10)                5130      \n",
            "=================================================================\n",
            "Total params: 843,658\n",
            "Trainable params: 843,658\n",
            "Non-trainable params: 0\n",
            "_________________________________________________________________\n"
          ],
          "name": "stdout"
        }
      ]
    },
    {
      "cell_type": "code",
      "metadata": {
        "id": "_6KoyHXi1juG",
        "colab_type": "code",
        "colab": {}
      },
      "source": [
        "from tensorflow.keras.preprocessing.image import ImageDataGenerator"
      ],
      "execution_count": 24,
      "outputs": []
    },
    {
      "cell_type": "code",
      "metadata": {
        "id": "rmF9eZkd2AUc",
        "colab_type": "code",
        "colab": {}
      },
      "source": [
        "train_datagen = ImageDataGenerator(rescale=1/255,\n",
        "                                   rotation_range=40,\n",
        "                                   horizontal_flip = True)\n",
        "\n",
        "valid_datagen = ImageDataGenerator(rescale=1/255)"
      ],
      "execution_count": 25,
      "outputs": []
    },
    {
      "cell_type": "code",
      "metadata": {
        "id": "dVAhxaed200H",
        "colab_type": "code",
        "colab": {}
      },
      "source": [
        "model.compile(loss='sparse_categorical_crossentropy', optimizer=tf.keras.optimizers.RMSprop(lr=0.0001), metrics=['accuracy'])"
      ],
      "execution_count": 26,
      "outputs": []
    },
    {
      "cell_type": "code",
      "metadata": {
        "id": "MRH5ZLx53KxW",
        "colab_type": "code",
        "colab": {
          "base_uri": "https://localhost:8080/",
          "height": 714
        },
        "outputId": "28fc8eb2-4f73-41e6-a6c0-2f8c2b89d9da"
      },
      "source": [
        "model.fit(train_datagen.flow(train_data_final, train_label_final),\n",
        "          epochs=20,\n",
        "          validation_data=valid_datagen.flow(valid_data, valid_label),\n",
        "          verbose = 2)"
      ],
      "execution_count": 27,
      "outputs": [
        {
          "output_type": "stream",
          "text": [
            "Epoch 1/20\n",
            "1563/1563 - 11s - loss: 0.6840 - accuracy: 0.7914 - val_loss: 0.1550 - val_accuracy: 0.9535\n",
            "Epoch 2/20\n",
            "1563/1563 - 11s - loss: 0.2415 - accuracy: 0.9268 - val_loss: 0.0994 - val_accuracy: 0.9696\n",
            "Epoch 3/20\n",
            "1563/1563 - 11s - loss: 0.1673 - accuracy: 0.9493 - val_loss: 0.0740 - val_accuracy: 0.9785\n",
            "Epoch 4/20\n",
            "1563/1563 - 11s - loss: 0.1390 - accuracy: 0.9580 - val_loss: 0.0716 - val_accuracy: 0.9784\n",
            "Epoch 5/20\n",
            "1563/1563 - 11s - loss: 0.1204 - accuracy: 0.9640 - val_loss: 0.0654 - val_accuracy: 0.9812\n",
            "Epoch 6/20\n",
            "1563/1563 - 11s - loss: 0.1073 - accuracy: 0.9676 - val_loss: 0.0700 - val_accuracy: 0.9807\n",
            "Epoch 7/20\n",
            "1563/1563 - 11s - loss: 0.0979 - accuracy: 0.9707 - val_loss: 0.0645 - val_accuracy: 0.9815\n",
            "Epoch 8/20\n",
            "1563/1563 - 11s - loss: 0.0908 - accuracy: 0.9726 - val_loss: 0.0557 - val_accuracy: 0.9836\n",
            "Epoch 9/20\n",
            "1563/1563 - 11s - loss: 0.0835 - accuracy: 0.9743 - val_loss: 0.0606 - val_accuracy: 0.9824\n",
            "Epoch 10/20\n",
            "1563/1563 - 11s - loss: 0.0825 - accuracy: 0.9750 - val_loss: 0.0830 - val_accuracy: 0.9785\n",
            "Epoch 11/20\n",
            "1563/1563 - 11s - loss: 0.0779 - accuracy: 0.9765 - val_loss: 0.0674 - val_accuracy: 0.9820\n",
            "Epoch 12/20\n",
            "1563/1563 - 11s - loss: 0.0757 - accuracy: 0.9773 - val_loss: 0.0691 - val_accuracy: 0.9832\n",
            "Epoch 13/20\n",
            "1563/1563 - 11s - loss: 0.0734 - accuracy: 0.9773 - val_loss: 0.0532 - val_accuracy: 0.9850\n",
            "Epoch 14/20\n",
            "1563/1563 - 11s - loss: 0.0706 - accuracy: 0.9789 - val_loss: 0.0683 - val_accuracy: 0.9818\n",
            "Epoch 15/20\n",
            "1563/1563 - 11s - loss: 0.0693 - accuracy: 0.9792 - val_loss: 0.0589 - val_accuracy: 0.9854\n",
            "Epoch 16/20\n",
            "1563/1563 - 11s - loss: 0.0681 - accuracy: 0.9801 - val_loss: 0.0712 - val_accuracy: 0.9803\n",
            "Epoch 17/20\n",
            "1563/1563 - 11s - loss: 0.0694 - accuracy: 0.9804 - val_loss: 0.0631 - val_accuracy: 0.9855\n",
            "Epoch 18/20\n",
            "1563/1563 - 11s - loss: 0.0676 - accuracy: 0.9798 - val_loss: 0.0713 - val_accuracy: 0.9836\n",
            "Epoch 19/20\n",
            "1563/1563 - 11s - loss: 0.0662 - accuracy: 0.9808 - val_loss: 0.0682 - val_accuracy: 0.9838\n",
            "Epoch 20/20\n",
            "1563/1563 - 11s - loss: 0.0646 - accuracy: 0.9810 - val_loss: 0.0583 - val_accuracy: 0.9855\n"
          ],
          "name": "stdout"
        },
        {
          "output_type": "execute_result",
          "data": {
            "text/plain": [
              "<tensorflow.python.keras.callbacks.History at 0x7f6ed0fbdf60>"
            ]
          },
          "metadata": {
            "tags": []
          },
          "execution_count": 27
        }
      ]
    },
    {
      "cell_type": "code",
      "metadata": {
        "id": "SnOaPcb84HY2",
        "colab_type": "code",
        "colab": {
          "base_uri": "https://localhost:8080/",
          "height": 51
        },
        "outputId": "201dad95-aa86-4a99-adc0-ca9bbd3dc083"
      },
      "source": [
        "model.evaluate(test_data, test_label)"
      ],
      "execution_count": 29,
      "outputs": [
        {
          "output_type": "stream",
          "text": [
            "157/157 [==============================] - 0s 2ms/step - loss: nan - accuracy: 0.0040\n"
          ],
          "name": "stdout"
        },
        {
          "output_type": "execute_result",
          "data": {
            "text/plain": [
              "[nan, 0.004000000189989805]"
            ]
          },
          "metadata": {
            "tags": []
          },
          "execution_count": 29
        }
      ]
    },
    {
      "cell_type": "code",
      "metadata": {
        "id": "w2gSgvRI5IcN",
        "colab_type": "code",
        "colab": {
          "base_uri": "https://localhost:8080/",
          "height": 187
        },
        "outputId": "b2a01011-0bf5-4f9f-ca31-d969bf0e941d"
      },
      "source": [
        "X_new = test_data[:10]\n",
        "y_prob = model.predict(X_new)\n",
        "print(y_prob.round(2))"
      ],
      "execution_count": 33,
      "outputs": [
        {
          "output_type": "stream",
          "text": [
            "[[0. 0. 0. 1. 0. 0. 0. 0. 0. 0.]\n",
            " [0. 1. 0. 0. 0. 0. 0. 0. 0. 0.]\n",
            " [0. 0. 1. 0. 0. 0. 0. 0. 0. 0.]\n",
            " [0. 0. 0. 0. 0. 0. 1. 0. 0. 0.]\n",
            " [0. 0. 0. 0. 0. 0. 0. 1. 0. 0.]\n",
            " [0. 0. 0. 0. 0. 0. 0. 1. 0. 0.]\n",
            " [0. 1. 0. 0. 0. 0. 0. 0. 0. 0.]\n",
            " [0. 0. 0. 0. 0. 0. 0. 0. 0. 1.]\n",
            " [0. 1. 0. 0. 0. 0. 0. 0. 0. 0.]\n",
            " [0. 0. 0. 0. 1. 0. 0. 0. 0. 0.]]\n"
          ],
          "name": "stdout"
        }
      ]
    },
    {
      "cell_type": "code",
      "metadata": {
        "id": "UPWora4W6lIF",
        "colab_type": "code",
        "colab": {
          "base_uri": "https://localhost:8080/",
          "height": 34
        },
        "outputId": "b6e44686-e49c-4f21-c93a-d91d7ca7fc71"
      },
      "source": [
        "y_pred = model.predict_classes(X_new)\n",
        "print(y_pred)"
      ],
      "execution_count": 34,
      "outputs": [
        {
          "output_type": "stream",
          "text": [
            "[3 1 2 6 7 7 1 9 1 4]\n"
          ],
          "name": "stdout"
        }
      ]
    },
    {
      "cell_type": "code",
      "metadata": {
        "id": "o22hl0iz6wCa",
        "colab_type": "code",
        "colab": {
          "base_uri": "https://localhost:8080/",
          "height": 34
        },
        "outputId": "86894347-adbe-4eef-ecb9-74da59e66aab"
      },
      "source": [
        "y_new = test_label[:10]\n",
        "print(y_new)"
      ],
      "execution_count": 35,
      "outputs": [
        {
          "output_type": "stream",
          "text": [
            "[0 1 2 3 4 5 6 7 8 9]\n"
          ],
          "name": "stdout"
        }
      ]
    },
    {
      "cell_type": "code",
      "metadata": {
        "id": "cpW7ojNr7BNp",
        "colab_type": "code",
        "colab": {}
      },
      "source": [
        ""
      ],
      "execution_count": null,
      "outputs": []
    }
  ]
}