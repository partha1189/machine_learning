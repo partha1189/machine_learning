{
  "nbformat": 4,
  "nbformat_minor": 0,
  "metadata": {
    "colab": {
      "name": "NLP_LSTM_Subwords.ipynb",
      "provenance": [],
      "authorship_tag": "ABX9TyOKAORRb0X9tpVZCmBnBWcv",
      "include_colab_link": true
    },
    "kernelspec": {
      "name": "python3",
      "display_name": "Python 3"
    },
    "accelerator": "GPU"
  },
  "cells": [
    {
      "cell_type": "markdown",
      "metadata": {
        "id": "view-in-github",
        "colab_type": "text"
      },
      "source": [
        "<a href=\"https://colab.research.google.com/github/partha1189/machine_learning/blob/tf_2.0_practice/NLP_LSTM_Subwords.ipynb\" target=\"_parent\"><img src=\"https://colab.research.google.com/assets/colab-badge.svg\" alt=\"Open In Colab\"/></a>"
      ]
    },
    {
      "cell_type": "code",
      "metadata": {
        "id": "lXKhJz83bHtD",
        "colab_type": "code",
        "colab": {}
      },
      "source": [
        "import tensorflow as tf\n",
        "from tensorflow.keras.preprocessing.sequence import pad_sequences\n",
        "import pandas as pd"
      ],
      "execution_count": 1,
      "outputs": []
    },
    {
      "cell_type": "code",
      "metadata": {
        "id": "tKas7AuRdvD7",
        "colab_type": "code",
        "colab": {
          "base_uri": "https://localhost:8080/",
          "height": 326
        },
        "outputId": "c057ce38-abbc-4e12-d0ed-70c5664982a5"
      },
      "source": [
        "!wget --no-check-certificate \\\n",
        "    https://drive.google.com/uc?id=13ySLC_ue6Umt9RJYSeM2t-V0kCv-4C-P -O /tmp/sentiment.csv"
      ],
      "execution_count": 2,
      "outputs": [
        {
          "output_type": "stream",
          "text": [
            "--2020-09-14 14:43:18--  https://drive.google.com/uc?id=13ySLC_ue6Umt9RJYSeM2t-V0kCv-4C-P\n",
            "Resolving drive.google.com (drive.google.com)... 74.125.195.113, 74.125.195.101, 74.125.195.138, ...\n",
            "Connecting to drive.google.com (drive.google.com)|74.125.195.113|:443... connected.\n",
            "HTTP request sent, awaiting response... 302 Moved Temporarily\n",
            "Location: https://doc-08-ak-docs.googleusercontent.com/docs/securesc/ha0ro937gcuc7l7deffksulhg5h7mbp1/925kucbmpm619tpoqsg85vbnn6sonkq7/1600094550000/11118900490791463723/*/13ySLC_ue6Umt9RJYSeM2t-V0kCv-4C-P [following]\n",
            "Warning: wildcards not supported in HTTP.\n",
            "--2020-09-14 14:43:18--  https://doc-08-ak-docs.googleusercontent.com/docs/securesc/ha0ro937gcuc7l7deffksulhg5h7mbp1/925kucbmpm619tpoqsg85vbnn6sonkq7/1600094550000/11118900490791463723/*/13ySLC_ue6Umt9RJYSeM2t-V0kCv-4C-P\n",
            "Resolving doc-08-ak-docs.googleusercontent.com (doc-08-ak-docs.googleusercontent.com)... 74.125.195.132, 2607:f8b0:400e:c09::84\n",
            "Connecting to doc-08-ak-docs.googleusercontent.com (doc-08-ak-docs.googleusercontent.com)|74.125.195.132|:443... connected.\n",
            "HTTP request sent, awaiting response... 200 OK\n",
            "Length: 127831 (125K) [text/csv]\n",
            "Saving to: ‘/tmp/sentiment.csv’\n",
            "\n",
            "/tmp/sentiment.csv  100%[===================>] 124.83K  --.-KB/s    in 0.001s  \n",
            "\n",
            "2020-09-14 14:43:18 (146 MB/s) - ‘/tmp/sentiment.csv’ saved [127831/127831]\n",
            "\n"
          ],
          "name": "stdout"
        }
      ]
    },
    {
      "cell_type": "code",
      "metadata": {
        "id": "YsjYZLi2dvWo",
        "colab_type": "code",
        "colab": {}
      },
      "source": [
        "dataset = pd.read_csv('/tmp/sentiment.csv')"
      ],
      "execution_count": 3,
      "outputs": []
    },
    {
      "cell_type": "code",
      "metadata": {
        "id": "PufYSOwxd6xT",
        "colab_type": "code",
        "colab": {}
      },
      "source": [
        "sentences = dataset['text'].tolist()\n",
        "labels = dataset['sentiment'].tolist()"
      ],
      "execution_count": 4,
      "outputs": []
    },
    {
      "cell_type": "code",
      "metadata": {
        "id": "GA-sWg3eeEuj",
        "colab_type": "code",
        "colab": {
          "base_uri": "https://localhost:8080/",
          "height": 153
        },
        "outputId": "dbbb2171-bb94-4adc-c114-fcc24d3d22e5"
      },
      "source": [
        "# Print some example sentences and labels\n",
        "for x in range(2):\n",
        "  print(sentences[x])\n",
        "  print(labels[x])\n",
        "  print(\"\\n\")"
      ],
      "execution_count": 5,
      "outputs": [
        {
          "output_type": "stream",
          "text": [
            "So there is no way for me to plug it in here in the US unless I go by a converter.\n",
            "0\n",
            "\n",
            "\n",
            "Good case Excellent value.\n",
            "1\n",
            "\n",
            "\n"
          ],
          "name": "stdout"
        }
      ]
    },
    {
      "cell_type": "code",
      "metadata": {
        "id": "JHjlhkY8eGr6",
        "colab_type": "code",
        "colab": {}
      },
      "source": [
        "import tensorflow_datasets as tfds"
      ],
      "execution_count": 6,
      "outputs": []
    },
    {
      "cell_type": "code",
      "metadata": {
        "id": "e5tJysXbeXhj",
        "colab_type": "code",
        "colab": {
          "base_uri": "https://localhost:8080/",
          "height": 34
        },
        "outputId": "61d8c310-fd2d-4d8d-bd39-83340f4c73ec"
      },
      "source": [
        "vocab_size = 1000\n",
        "tokenizer = tfds.features.text.SubwordTextEncoder.build_from_corpus(sentences, vocab_size, max_subword_length=5)\n",
        "\n",
        "print(\"Vocab size is \", tokenizer.vocab_size)"
      ],
      "execution_count": 7,
      "outputs": [
        {
          "output_type": "stream",
          "text": [
            "Vocab size is  999\n"
          ],
          "name": "stdout"
        }
      ]
    },
    {
      "cell_type": "code",
      "metadata": {
        "id": "yTZoO46dfQsJ",
        "colab_type": "code",
        "colab": {
          "base_uri": "https://localhost:8080/",
          "height": 71
        },
        "outputId": "3d533bae-8b5d-4a96-a922-e58dfee40393"
      },
      "source": [
        "num = 5\n",
        "print(sentences[num])\n",
        "encoded = tokenizer.encode(sentences[num])\n",
        "print(encoded)"
      ],
      "execution_count": 8,
      "outputs": [
        {
          "output_type": "stream",
          "text": [
            "I have to jiggle the plug to get it to line up right to get decent volume.\n",
            "[4, 31, 6, 849, 162, 450, 12, 1, 600, 438, 775, 6, 175, 14, 6, 55, 213, 159, 474, 775, 6, 175, 614, 380, 295, 148, 72, 789]\n"
          ],
          "name": "stdout"
        }
      ]
    },
    {
      "cell_type": "code",
      "metadata": {
        "id": "cL32WKnHgYq6",
        "colab_type": "code",
        "colab": {
          "base_uri": "https://localhost:8080/",
          "height": 493
        },
        "outputId": "26c75c77-adbe-4ee2-c4d0-f71fdbc00654"
      },
      "source": [
        "for i in encoded:\n",
        "  print(tokenizer.decode([i]))"
      ],
      "execution_count": 9,
      "outputs": [
        {
          "output_type": "stream",
          "text": [
            "I \n",
            "have \n",
            "to \n",
            "j\n",
            "ig\n",
            "gl\n",
            "e \n",
            "the \n",
            "pl\n",
            "ug\n",
            " \n",
            "to \n",
            "get \n",
            "it \n",
            "to \n",
            "li\n",
            "ne \n",
            "up \n",
            "right\n",
            " \n",
            "to \n",
            "get \n",
            "dec\n",
            "ent \n",
            "vo\n",
            "lu\n",
            "me\n",
            ".\n"
          ],
          "name": "stdout"
        }
      ]
    },
    {
      "cell_type": "markdown",
      "metadata": {
        "id": "faXOKSqDgnf4",
        "colab_type": "text"
      },
      "source": [
        "Replace Sentence Data with encoded Subwords"
      ]
    },
    {
      "cell_type": "code",
      "metadata": {
        "id": "OoPYSzoUgg4K",
        "colab_type": "code",
        "colab": {}
      },
      "source": [
        "for i, sentence in enumerate(sentences):\n",
        "  sentences[i] = tokenizer.encode(sentence)"
      ],
      "execution_count": 10,
      "outputs": []
    },
    {
      "cell_type": "code",
      "metadata": {
        "id": "fhFV3w8GgymK",
        "colab_type": "code",
        "colab": {
          "base_uri": "https://localhost:8080/",
          "height": 54
        },
        "outputId": "f99ea33f-8d51-44b9-b55f-84a4137d4faf"
      },
      "source": [
        "print(sentences[5])"
      ],
      "execution_count": 11,
      "outputs": [
        {
          "output_type": "stream",
          "text": [
            "[4, 31, 6, 849, 162, 450, 12, 1, 600, 438, 775, 6, 175, 14, 6, 55, 213, 159, 474, 775, 6, 175, 614, 380, 295, 148, 72, 789]\n"
          ],
          "name": "stdout"
        }
      ]
    },
    {
      "cell_type": "markdown",
      "metadata": {
        "id": "4I83nlMwwSaT",
        "colab_type": "text"
      },
      "source": [
        "Final Preprocessing"
      ]
    },
    {
      "cell_type": "code",
      "metadata": {
        "id": "RNLg44Yjg-q6",
        "colab_type": "code",
        "colab": {}
      },
      "source": [
        "import numpy as np\n",
        "\n",
        "max_length = 50\n",
        "trunc_type = 'post'\n",
        "padding_type = 'post'\n",
        "\n",
        "sequence_padded = pad_sequences(sentences, maxlen=max_length, truncating=trunc_type, padding=padding_type)\n",
        "\n",
        "training_size = int(len(sentences) * 0.8)\n",
        "\n",
        "training_sentences = sequence_padded[:training_size]\n",
        "training_labels = labels[:training_size]\n",
        "testing_sequences = sequence_padded[training_size:]\n",
        "testing_labels = labels[training_size:]\n",
        "\n",
        "training_labels_final = np.array(training_labels)\n",
        "testing_labels_final = np.array(testing_labels)"
      ],
      "execution_count": 12,
      "outputs": []
    },
    {
      "cell_type": "markdown",
      "metadata": {
        "id": "kpHPp4DeyFgF",
        "colab_type": "text"
      },
      "source": [
        "Model using Embedding"
      ]
    },
    {
      "cell_type": "code",
      "metadata": {
        "id": "52rWQzJZxd61",
        "colab_type": "code",
        "colab": {
          "base_uri": "https://localhost:8080/",
          "height": 289
        },
        "outputId": "79da36a9-a1b7-4dc1-d011-3ba903afe43d"
      },
      "source": [
        "embedding_dim = 16\n",
        "\n",
        "model = tf.keras.models.Sequential([\n",
        "  tf.keras.layers.Embedding(vocab_size, embedding_dim, input_length = max_length),\n",
        "  tf.keras.layers.GlobalAveragePooling1D(),\n",
        "  tf.keras.layers.Dense(6, activation='relu'),\n",
        "  tf.keras.layers.Dense(1, activation='sigmoid')                                 \n",
        "])\n",
        "\n",
        "model.summary()"
      ],
      "execution_count": 13,
      "outputs": [
        {
          "output_type": "stream",
          "text": [
            "Model: \"sequential\"\n",
            "_________________________________________________________________\n",
            "Layer (type)                 Output Shape              Param #   \n",
            "=================================================================\n",
            "embedding (Embedding)        (None, 50, 16)            16000     \n",
            "_________________________________________________________________\n",
            "global_average_pooling1d (Gl (None, 16)                0         \n",
            "_________________________________________________________________\n",
            "dense (Dense)                (None, 6)                 102       \n",
            "_________________________________________________________________\n",
            "dense_1 (Dense)              (None, 1)                 7         \n",
            "=================================================================\n",
            "Total params: 16,109\n",
            "Trainable params: 16,109\n",
            "Non-trainable params: 0\n",
            "_________________________________________________________________\n"
          ],
          "name": "stdout"
        }
      ]
    },
    {
      "cell_type": "code",
      "metadata": {
        "id": "zVXApqgTyaQ6",
        "colab_type": "code",
        "colab": {
          "base_uri": "https://localhost:8080/",
          "height": 1000
        },
        "outputId": "c02942b5-daca-4c79-ed23-02f87df7f5d3"
      },
      "source": [
        "num_epochs = 30\n",
        "model.compile(loss='binary_crossentropy',optimizer='adam',metrics=['accuracy'])\n",
        "history = model.fit(training_sentences, training_labels_final, epochs=num_epochs, validation_data=(testing_sequences, testing_labels_final))\n"
      ],
      "execution_count": 14,
      "outputs": [
        {
          "output_type": "stream",
          "text": [
            "Epoch 1/30\n",
            "50/50 [==============================] - 0s 6ms/step - loss: 0.6918 - accuracy: 0.5154 - val_loss: 0.6990 - val_accuracy: 0.4110\n",
            "Epoch 2/30\n",
            "50/50 [==============================] - 0s 3ms/step - loss: 0.6864 - accuracy: 0.5223 - val_loss: 0.7050 - val_accuracy: 0.4110\n",
            "Epoch 3/30\n",
            "50/50 [==============================] - 0s 3ms/step - loss: 0.6800 - accuracy: 0.5392 - val_loss: 0.6932 - val_accuracy: 0.4812\n",
            "Epoch 4/30\n",
            "50/50 [==============================] - 0s 3ms/step - loss: 0.6693 - accuracy: 0.5832 - val_loss: 0.6866 - val_accuracy: 0.5013\n",
            "Epoch 5/30\n",
            "50/50 [==============================] - 0s 3ms/step - loss: 0.6523 - accuracy: 0.6491 - val_loss: 0.6772 - val_accuracy: 0.5113\n",
            "Epoch 6/30\n",
            "50/50 [==============================] - 0s 4ms/step - loss: 0.6276 - accuracy: 0.6717 - val_loss: 0.6448 - val_accuracy: 0.7068\n",
            "Epoch 7/30\n",
            "50/50 [==============================] - 0s 4ms/step - loss: 0.5955 - accuracy: 0.7690 - val_loss: 0.6368 - val_accuracy: 0.6291\n",
            "Epoch 8/30\n",
            "50/50 [==============================] - 0s 3ms/step - loss: 0.5578 - accuracy: 0.7903 - val_loss: 0.6065 - val_accuracy: 0.6992\n",
            "Epoch 9/30\n",
            "50/50 [==============================] - 0s 3ms/step - loss: 0.5185 - accuracy: 0.8161 - val_loss: 0.5937 - val_accuracy: 0.6867\n",
            "Epoch 10/30\n",
            "50/50 [==============================] - 0s 3ms/step - loss: 0.4804 - accuracy: 0.8387 - val_loss: 0.5512 - val_accuracy: 0.7494\n",
            "Epoch 11/30\n",
            "50/50 [==============================] - 0s 3ms/step - loss: 0.4428 - accuracy: 0.8575 - val_loss: 0.5379 - val_accuracy: 0.7469\n",
            "Epoch 12/30\n",
            "50/50 [==============================] - 0s 4ms/step - loss: 0.4115 - accuracy: 0.8675 - val_loss: 0.5342 - val_accuracy: 0.7393\n",
            "Epoch 13/30\n",
            "50/50 [==============================] - 0s 4ms/step - loss: 0.3820 - accuracy: 0.8713 - val_loss: 0.5355 - val_accuracy: 0.7318\n",
            "Epoch 14/30\n",
            "50/50 [==============================] - 0s 3ms/step - loss: 0.3576 - accuracy: 0.8807 - val_loss: 0.5258 - val_accuracy: 0.7393\n",
            "Epoch 15/30\n",
            "50/50 [==============================] - 0s 3ms/step - loss: 0.3343 - accuracy: 0.8901 - val_loss: 0.5283 - val_accuracy: 0.7444\n",
            "Epoch 16/30\n",
            "50/50 [==============================] - 0s 3ms/step - loss: 0.3147 - accuracy: 0.8895 - val_loss: 0.4918 - val_accuracy: 0.7619\n",
            "Epoch 17/30\n",
            "50/50 [==============================] - 0s 3ms/step - loss: 0.2995 - accuracy: 0.8970 - val_loss: 0.5089 - val_accuracy: 0.7419\n",
            "Epoch 18/30\n",
            "50/50 [==============================] - 0s 3ms/step - loss: 0.2828 - accuracy: 0.9008 - val_loss: 0.5440 - val_accuracy: 0.7419\n",
            "Epoch 19/30\n",
            "50/50 [==============================] - 0s 3ms/step - loss: 0.2689 - accuracy: 0.9153 - val_loss: 0.5049 - val_accuracy: 0.7444\n",
            "Epoch 20/30\n",
            "50/50 [==============================] - 0s 3ms/step - loss: 0.2547 - accuracy: 0.9171 - val_loss: 0.5001 - val_accuracy: 0.7544\n",
            "Epoch 21/30\n",
            "50/50 [==============================] - 0s 3ms/step - loss: 0.2437 - accuracy: 0.9215 - val_loss: 0.5444 - val_accuracy: 0.7494\n",
            "Epoch 22/30\n",
            "50/50 [==============================] - 0s 3ms/step - loss: 0.2330 - accuracy: 0.9303 - val_loss: 0.5302 - val_accuracy: 0.7569\n",
            "Epoch 23/30\n",
            "50/50 [==============================] - 0s 4ms/step - loss: 0.2230 - accuracy: 0.9284 - val_loss: 0.5625 - val_accuracy: 0.7469\n",
            "Epoch 24/30\n",
            "50/50 [==============================] - 0s 3ms/step - loss: 0.2160 - accuracy: 0.9328 - val_loss: 0.5255 - val_accuracy: 0.7569\n",
            "Epoch 25/30\n",
            "50/50 [==============================] - 0s 3ms/step - loss: 0.2066 - accuracy: 0.9397 - val_loss: 0.5247 - val_accuracy: 0.7594\n",
            "Epoch 26/30\n",
            "50/50 [==============================] - 0s 3ms/step - loss: 0.2001 - accuracy: 0.9404 - val_loss: 0.5679 - val_accuracy: 0.7569\n",
            "Epoch 27/30\n",
            "50/50 [==============================] - 0s 3ms/step - loss: 0.1927 - accuracy: 0.9379 - val_loss: 0.5480 - val_accuracy: 0.7644\n",
            "Epoch 28/30\n",
            "50/50 [==============================] - 0s 3ms/step - loss: 0.1855 - accuracy: 0.9454 - val_loss: 0.5625 - val_accuracy: 0.7569\n",
            "Epoch 29/30\n",
            "50/50 [==============================] - 0s 3ms/step - loss: 0.1790 - accuracy: 0.9492 - val_loss: 0.5638 - val_accuracy: 0.7644\n",
            "Epoch 30/30\n",
            "50/50 [==============================] - 0s 4ms/step - loss: 0.1741 - accuracy: 0.9517 - val_loss: 0.5718 - val_accuracy: 0.7644\n"
          ],
          "name": "stdout"
        }
      ]
    },
    {
      "cell_type": "markdown",
      "metadata": {
        "id": "qIEVh-pKysZx",
        "colab_type": "text"
      },
      "source": [
        "Plot Accuracy & Loss"
      ]
    },
    {
      "cell_type": "code",
      "metadata": {
        "id": "mWH4XHCjydGZ",
        "colab_type": "code",
        "colab": {}
      },
      "source": [
        "import matplotlib.pyplot as plt"
      ],
      "execution_count": 15,
      "outputs": []
    },
    {
      "cell_type": "code",
      "metadata": {
        "id": "PQCAG9AQyxf-",
        "colab_type": "code",
        "colab": {
          "base_uri": "https://localhost:8080/",
          "height": 541
        },
        "outputId": "3b7a9499-f99b-413a-c0b9-cd3339a50d2f"
      },
      "source": [
        "def plot_graphs(history, string):\n",
        "  plt.plot(history.history[string])\n",
        "  plt.plot(history.history['val_'+string])\n",
        "  plt.xlabel('Epochs')\n",
        "  plt.ylabel(string)\n",
        "  plt.legend([string, 'val_' + string])\n",
        "  plt.show()\n",
        "\n",
        "plot_graphs(history, 'accuracy')\n",
        "plot_graphs(history, 'loss')"
      ],
      "execution_count": 16,
      "outputs": [
        {
          "output_type": "display_data",
          "data": {
            "image/png": "[encoded data removed]",
            "text/plain": [
              "<Figure size 432x288 with 1 Axes>"
            ]
          },
          "metadata": {
            "tags": [],
            "needs_background": "light"
          }
        },
        {
          "output_type": "display_data",
          "data": {
            "image/png": "[encoded data removed]",
            "text/plain": [
              "<Figure size 432x288 with 1 Axes>"
            ]
          },
          "metadata": {
            "tags": [],
            "needs_background": "light"
          }
        }
      ]
    },
    {
      "cell_type": "code",
      "metadata": {
        "id": "MYgq0aI8zbg2",
        "colab_type": "code",
        "colab": {}
      },
      "source": [
        "def predict_review(model, new_sentences, maxlen=max_length, show_padded_sequence=True ):\n",
        "  new_sequences = []\n",
        "\n",
        "  for i, frvw in enumerate(new_sentences):\n",
        "    new_sequences.append(tokenizer.encode(frvw))\n",
        "\n",
        "  trunc_type = 'post'\n",
        "  padding_type = 'post'\n",
        "\n",
        "  new_reviews_padded = pad_sequences(new_sequences, maxlen=max_length, padding=padding_type, truncating=trunc_type)\n",
        "\n",
        "  classes = model.predict(new_reviews_padded)\n",
        "\n",
        "  for x in range(len(new_sentences)):\n",
        "    if(show_padded_sequence):\n",
        "      print(new_reviews_padded[x])\n",
        "    \n",
        "    print(new_sentences[x])\n",
        "\n",
        "    print(classes[x])\n",
        "    print('\\n')"
      ],
      "execution_count": 17,
      "outputs": []
    },
    {
      "cell_type": "code",
      "metadata": {
        "id": "b7nv2RdB11Bp",
        "colab_type": "code",
        "colab": {
          "base_uri": "https://localhost:8080/",
          "height": 850
        },
        "outputId": "c62f45bf-e74e-4d8a-c8e6-4fea3bf2c9ec"
      },
      "source": [
        "fake_reviews = [\"I love this phone\", \n",
        "                \"Everything was cold\",\n",
        "                \"Everything was hot exactly as I wanted\", \n",
        "                \"Everything was green\", \n",
        "                \"the host seated us immediately\",\n",
        "                \"they gave us free chocolate cake\", \n",
        "                \"we couldn't hear each other talk because of the shouting in the kitchen\"\n",
        "              ]\n",
        "\n",
        "predict_review(model, fake_reviews)"
      ],
      "execution_count": 18,
      "outputs": [
        {
          "output_type": "stream",
          "text": [
            "[  4 281  16  25   0   0   0   0   0   0   0   0   0   0   0   0   0   0\n",
            "   0   0   0   0   0   0   0   0   0   0   0   0   0   0   0   0   0   0\n",
            "   0   0   0   0   0   0   0   0   0   0   0   0   0   0]\n",
            "I love this phone\n",
            "[0.91292566]\n",
            "\n",
            "\n",
            "[812 227 864 100 775   9 525 843   0   0   0   0   0   0   0   0   0   0\n",
            "   0   0   0   0   0   0   0   0   0   0   0   0   0   0   0   0   0   0\n",
            "   0   0   0   0   0   0   0   0   0   0   0   0   0   0]\n",
            "Everything was cold\n",
            "[0.09969194]\n",
            "\n",
            "\n",
            "[812 227 864 100 775   9 109   8 333 731  24  61   4 171  59  77   0   0\n",
            "   0   0   0   0   0   0   0   0   0   0   0   0   0   0   0   0   0   0\n",
            "   0   0   0   0   0   0   0   0   0   0   0   0   0   0]\n",
            "Everything was hot exactly as I wanted\n",
            "[0.30308688]\n",
            "\n",
            "\n",
            "[812 227 864 100 775   9 157 359 853   0   0   0   0   0   0   0   0   0\n",
            "   0   0   0   0   0   0   0   0   0   0   0   0   0   0   0   0   0   0\n",
            "   0   0   0   0   0   0   0   0   0   0   0   0   0   0]\n",
            "Everything was green\n",
            "[0.09221524]\n",
            "\n",
            "\n",
            "[  1 109 228 540 237 635 241 423 340  89 298   0   0   0   0   0   0   0\n",
            "   0   0   0   0   0   0   0   0   0   0   0   0   0   0   0   0   0   0\n",
            "   0   0   0   0   0   0   0   0   0   0   0   0   0   0]\n",
            "the host seated us immediately\n",
            "[0.5083556]\n",
            "\n",
            "\n",
            "[154 242  47 635 341  12 569 547 147 319 775 125  85   0   0   0   0   0\n",
            "   0   0   0   0   0   0   0   0   0   0   0   0   0   0   0   0   0   0\n",
            "   0   0   0   0   0   0   0   0   0   0   0   0   0   0]\n",
            "they gave us free chocolate cake\n",
            "[0.7415764]\n",
            "\n",
            "\n",
            "[158 190 853 782   8 607 775 210 232 146 775 470  67 305 101  15   1 328\n",
            " 296  26  19   1 661 641 195   0   0   0   0   0   0   0   0   0   0   0\n",
            "   0   0   0   0   0   0   0   0   0   0   0   0   0   0]\n",
            "we couldn't hear each other talk because of the shouting in the kitchen\n",
            "[0.03940629]\n",
            "\n",
            "\n"
          ],
          "name": "stdout"
        }
      ]
    },
    {
      "cell_type": "code",
      "metadata": {
        "id": "ID-yqPBl142m",
        "colab_type": "code",
        "colab": {}
      },
      "source": [
        "def fit_model_now (model, sentences) :\n",
        "  model.compile(loss='binary_crossentropy',optimizer='adam',metrics=['accuracy'])\n",
        "  model.summary()\n",
        "  history = model.fit(training_sentences, training_labels_final, epochs=num_epochs, \n",
        "                      validation_data=(testing_sequences, testing_labels_final))\n",
        "  return history\n",
        "\n",
        "def plot_results (history):\n",
        "  plot_graphs(history, \"accuracy\")\n",
        "  plot_graphs(history, \"loss\")\n",
        "\n",
        "def fit_model_and_show_results (model, sentences):\n",
        "  history = fit_model_now(model, sentences)\n",
        "  plot_results(history)\n",
        "  predict_review(model, sentences)"
      ],
      "execution_count": 21,
      "outputs": []
    },
    {
      "cell_type": "code",
      "metadata": {
        "id": "S_vEIKNHEb1o",
        "colab_type": "code",
        "colab": {
          "base_uri": "https://localhost:8080/",
          "height": 1000
        },
        "outputId": "ec92d1d7-04b8-468b-f1b4-ca04b83fa2ff"
      },
      "source": [
        "# Define the model\n",
        "model_bidi_lstm = tf.keras.Sequential([\n",
        "    tf.keras.layers.Embedding(vocab_size, embedding_dim, input_length=max_length),\n",
        "    tf.keras.layers.Bidirectional(tf.keras.layers.LSTM(embedding_dim)), \n",
        "    tf.keras.layers.Dense(6, activation='relu'), \n",
        "    tf.keras.layers.Dense(1, activation='sigmoid')\n",
        "])\n",
        "\n",
        "# Compile and train the model and then show the predictions for our extra sentences\n",
        "fit_model_and_show_results(model_bidi_lstm, fake_reviews)\n"
      ],
      "execution_count": 23,
      "outputs": [
        {
          "output_type": "stream",
          "text": [
            "Model: \"sequential_2\"\n",
            "_________________________________________________________________\n",
            "Layer (type)                 Output Shape              Param #   \n",
            "=================================================================\n",
            "embedding_2 (Embedding)      (None, 50, 16)            16000     \n",
            "_________________________________________________________________\n",
            "bidirectional_1 (Bidirection (None, 32)                4224      \n",
            "_________________________________________________________________\n",
            "dense_4 (Dense)              (None, 6)                 198       \n",
            "_________________________________________________________________\n",
            "dense_5 (Dense)              (None, 1)                 7         \n",
            "=================================================================\n",
            "Total params: 20,429\n",
            "Trainable params: 20,429\n",
            "Non-trainable params: 0\n",
            "_________________________________________________________________\n",
            "Epoch 1/30\n",
            "50/50 [==============================] - 1s 20ms/step - loss: 0.6921 - accuracy: 0.5223 - val_loss: 0.6981 - val_accuracy: 0.4110\n",
            "Epoch 2/30\n",
            "50/50 [==============================] - 0s 8ms/step - loss: 0.6737 - accuracy: 0.5242 - val_loss: 0.6891 - val_accuracy: 0.4160\n",
            "Epoch 3/30\n",
            "50/50 [==============================] - 0s 8ms/step - loss: 0.5808 - accuracy: 0.6993 - val_loss: 0.6252 - val_accuracy: 0.6617\n",
            "Epoch 4/30\n",
            "50/50 [==============================] - 0s 8ms/step - loss: 0.3965 - accuracy: 0.8456 - val_loss: 0.5759 - val_accuracy: 0.7243\n",
            "Epoch 5/30\n",
            "50/50 [==============================] - 0s 8ms/step - loss: 0.2753 - accuracy: 0.8927 - val_loss: 0.6062 - val_accuracy: 0.7444\n",
            "Epoch 6/30\n",
            "50/50 [==============================] - 0s 8ms/step - loss: 0.2177 - accuracy: 0.9240 - val_loss: 0.5836 - val_accuracy: 0.7594\n",
            "Epoch 7/30\n",
            "50/50 [==============================] - 0s 8ms/step - loss: 0.1757 - accuracy: 0.9460 - val_loss: 0.7094 - val_accuracy: 0.7694\n",
            "Epoch 8/30\n",
            "50/50 [==============================] - 0s 8ms/step - loss: 0.1283 - accuracy: 0.9636 - val_loss: 0.7335 - val_accuracy: 0.7719\n",
            "Epoch 9/30\n",
            "50/50 [==============================] - 0s 8ms/step - loss: 0.1154 - accuracy: 0.9661 - val_loss: 0.8392 - val_accuracy: 0.7619\n",
            "Epoch 10/30\n",
            "50/50 [==============================] - 0s 8ms/step - loss: 0.1026 - accuracy: 0.9718 - val_loss: 0.8473 - val_accuracy: 0.7719\n",
            "Epoch 11/30\n",
            "50/50 [==============================] - 0s 8ms/step - loss: 0.0991 - accuracy: 0.9724 - val_loss: 0.8496 - val_accuracy: 0.7644\n",
            "Epoch 12/30\n",
            "50/50 [==============================] - 0s 8ms/step - loss: 0.0666 - accuracy: 0.9868 - val_loss: 0.9625 - val_accuracy: 0.7619\n",
            "Epoch 13/30\n",
            "50/50 [==============================] - 0s 8ms/step - loss: 0.0510 - accuracy: 0.9912 - val_loss: 1.0643 - val_accuracy: 0.7594\n",
            "Epoch 14/30\n",
            "50/50 [==============================] - 0s 8ms/step - loss: 0.0443 - accuracy: 0.9925 - val_loss: 1.0424 - val_accuracy: 0.7569\n",
            "Epoch 15/30\n",
            "50/50 [==============================] - 0s 8ms/step - loss: 0.0393 - accuracy: 0.9937 - val_loss: 1.1434 - val_accuracy: 0.7594\n",
            "Epoch 16/30\n",
            "50/50 [==============================] - 0s 8ms/step - loss: 0.0371 - accuracy: 0.9937 - val_loss: 1.1456 - val_accuracy: 0.7669\n",
            "Epoch 17/30\n",
            "50/50 [==============================] - 0s 8ms/step - loss: 0.0353 - accuracy: 0.9944 - val_loss: 1.1600 - val_accuracy: 0.7619\n",
            "Epoch 18/30\n",
            "50/50 [==============================] - 0s 8ms/step - loss: 0.0331 - accuracy: 0.9937 - val_loss: 1.1305 - val_accuracy: 0.7769\n",
            "Epoch 19/30\n",
            "50/50 [==============================] - 0s 8ms/step - loss: 0.0287 - accuracy: 0.9956 - val_loss: 1.1755 - val_accuracy: 0.7644\n",
            "Epoch 20/30\n",
            "50/50 [==============================] - 0s 8ms/step - loss: 0.0275 - accuracy: 0.9956 - val_loss: 1.2750 - val_accuracy: 0.7619\n",
            "Epoch 21/30\n",
            "50/50 [==============================] - 0s 8ms/step - loss: 0.0272 - accuracy: 0.9956 - val_loss: 1.2617 - val_accuracy: 0.7594\n",
            "Epoch 22/30\n",
            "50/50 [==============================] - 0s 8ms/step - loss: 0.0906 - accuracy: 0.9793 - val_loss: 0.8801 - val_accuracy: 0.7794\n",
            "Epoch 23/30\n",
            "50/50 [==============================] - 0s 8ms/step - loss: 0.0839 - accuracy: 0.9705 - val_loss: 1.1239 - val_accuracy: 0.7644\n",
            "Epoch 24/30\n",
            "50/50 [==============================] - 0s 8ms/step - loss: 0.0482 - accuracy: 0.9900 - val_loss: 0.9848 - val_accuracy: 0.7544\n",
            "Epoch 25/30\n",
            "50/50 [==============================] - 0s 9ms/step - loss: 0.0511 - accuracy: 0.9887 - val_loss: 1.1836 - val_accuracy: 0.7644\n",
            "Epoch 26/30\n",
            "50/50 [==============================] - 0s 9ms/step - loss: 0.0326 - accuracy: 0.9944 - val_loss: 1.2310 - val_accuracy: 0.7644\n",
            "Epoch 27/30\n",
            "50/50 [==============================] - 0s 8ms/step - loss: 0.0248 - accuracy: 0.9962 - val_loss: 1.3346 - val_accuracy: 0.7644\n",
            "Epoch 28/30\n",
            "50/50 [==============================] - 0s 8ms/step - loss: 0.0226 - accuracy: 0.9962 - val_loss: 1.3033 - val_accuracy: 0.7644\n",
            "Epoch 29/30\n",
            "50/50 [==============================] - 0s 8ms/step - loss: 0.0213 - accuracy: 0.9969 - val_loss: 1.3484 - val_accuracy: 0.7644\n",
            "Epoch 30/30\n",
            "50/50 [==============================] - 0s 8ms/step - loss: 0.0194 - accuracy: 0.9969 - val_loss: 1.3654 - val_accuracy: 0.7594\n"
          ],
          "name": "stdout"
        },
        {
          "output_type": "display_data",
          "data": {
            "image/png": "[encoded data removed]",
            "text/plain": [
              "<Figure size 432x288 with 1 Axes>"
            ]
          },
          "metadata": {
            "tags": [],
            "needs_background": "light"
          }
        },
        {
          "output_type": "display_data",
          "data": {
            "image/png": "[encoded data removed]",
            "text/plain": [
              "<Figure size 432x288 with 1 Axes>"
            ]
          },
          "metadata": {
            "tags": [],
            "needs_background": "light"
          }
        },
        {
          "output_type": "stream",
          "text": [
            "[  4 281  16  25   0   0   0   0   0   0   0   0   0   0   0   0   0   0\n",
            "   0   0   0   0   0   0   0   0   0   0   0   0   0   0   0   0   0   0\n",
            "   0   0   0   0   0   0   0   0   0   0   0   0   0   0]\n",
            "I love this phone\n",
            "[0.9981515]\n",
            "\n",
            "\n",
            "[812 227 864 100 775   9 525 843   0   0   0   0   0   0   0   0   0   0\n",
            "   0   0   0   0   0   0   0   0   0   0   0   0   0   0   0   0   0   0\n",
            "   0   0   0   0   0   0   0   0   0   0   0   0   0   0]\n",
            "Everything was cold\n",
            "[0.02964093]\n",
            "\n",
            "\n",
            "[812 227 864 100 775   9 109   8 333 731  24  61   4 171  59  77   0   0\n",
            "   0   0   0   0   0   0   0   0   0   0   0   0   0   0   0   0   0   0\n",
            "   0   0   0   0   0   0   0   0   0   0   0   0   0   0]\n",
            "Everything was hot exactly as I wanted\n",
            "[0.6666087]\n",
            "\n",
            "\n",
            "[812 227 864 100 775   9 157 359 853   0   0   0   0   0   0   0   0   0\n",
            "   0   0   0   0   0   0   0   0   0   0   0   0   0   0   0   0   0   0\n",
            "   0   0   0   0   0   0   0   0   0   0   0   0   0   0]\n",
            "Everything was green\n",
            "[0.01689975]\n",
            "\n",
            "\n",
            "[  1 109 228 540 237 635 241 423 340  89 298   0   0   0   0   0   0   0\n",
            "   0   0   0   0   0   0   0   0   0   0   0   0   0   0   0   0   0   0\n",
            "   0   0   0   0   0   0   0   0   0   0   0   0   0   0]\n",
            "the host seated us immediately\n",
            "[0.99820495]\n",
            "\n",
            "\n",
            "[154 242  47 635 341  12 569 547 147 319 775 125  85   0   0   0   0   0\n",
            "   0   0   0   0   0   0   0   0   0   0   0   0   0   0   0   0   0   0\n",
            "   0   0   0   0   0   0   0   0   0   0   0   0   0   0]\n",
            "they gave us free chocolate cake\n",
            "[0.9955381]\n",
            "\n",
            "\n",
            "[158 190 853 782   8 607 775 210 232 146 775 470  67 305 101  15   1 328\n",
            " 296  26  19   1 661 641 195   0   0   0   0   0   0   0   0   0   0   0\n",
            "   0   0   0   0   0   0   0   0   0   0   0   0   0   0]\n",
            "we couldn't hear each other talk because of the shouting in the kitchen\n",
            "[0.00335835]\n",
            "\n",
            "\n"
          ],
          "name": "stdout"
        }
      ]
    },
    {
      "cell_type": "code",
      "metadata": {
        "id": "YmLvRwAxEiq9",
        "colab_type": "code",
        "colab": {
          "base_uri": "https://localhost:8080/",
          "height": 1000
        },
        "outputId": "d99ec979-4b2c-47bf-fff2-1765e5dcab05"
      },
      "source": [
        "model_multiple_bidi_lstm = tf.keras.Sequential([\n",
        "    tf.keras.layers.Embedding(vocab_size, embedding_dim, input_length=max_length),\n",
        "    tf.keras.layers.Bidirectional(tf.keras.layers.LSTM(embedding_dim, \n",
        "                                                       return_sequences=True)), \n",
        "    tf.keras.layers.Bidirectional(tf.keras.layers.LSTM(embedding_dim)),\n",
        "    tf.keras.layers.Dense(6, activation='relu'),\n",
        "    tf.keras.layers.Dense(1, activation='sigmoid')\n",
        "])\n",
        "\n",
        "fit_model_and_show_results(model_multiple_bidi_lstm, fake_reviews)"
      ],
      "execution_count": 24,
      "outputs": [
        {
          "output_type": "stream",
          "text": [
            "Model: \"sequential_3\"\n",
            "_________________________________________________________________\n",
            "Layer (type)                 Output Shape              Param #   \n",
            "=================================================================\n",
            "embedding_3 (Embedding)      (None, 50, 16)            16000     \n",
            "_________________________________________________________________\n",
            "bidirectional_2 (Bidirection (None, 50, 32)            4224      \n",
            "_________________________________________________________________\n",
            "bidirectional_3 (Bidirection (None, 32)                6272      \n",
            "_________________________________________________________________\n",
            "dense_6 (Dense)              (None, 6)                 198       \n",
            "_________________________________________________________________\n",
            "dense_7 (Dense)              (None, 1)                 7         \n",
            "=================================================================\n",
            "Total params: 26,701\n",
            "Trainable params: 26,701\n",
            "Non-trainable params: 0\n",
            "_________________________________________________________________\n",
            "Epoch 1/30\n",
            "50/50 [==============================] - 2s 34ms/step - loss: 0.6913 - accuracy: 0.5336 - val_loss: 0.6923 - val_accuracy: 0.4511\n",
            "Epoch 2/30\n",
            "50/50 [==============================] - 1s 14ms/step - loss: 0.6345 - accuracy: 0.6334 - val_loss: 0.5795 - val_accuracy: 0.7268\n",
            "Epoch 3/30\n",
            "50/50 [==============================] - 1s 14ms/step - loss: 0.4138 - accuracy: 0.8299 - val_loss: 0.5102 - val_accuracy: 0.7719\n",
            "Epoch 4/30\n",
            "50/50 [==============================] - 1s 14ms/step - loss: 0.3142 - accuracy: 0.8826 - val_loss: 0.5095 - val_accuracy: 0.7644\n",
            "Epoch 5/30\n",
            "50/50 [==============================] - 1s 13ms/step - loss: 0.2553 - accuracy: 0.9046 - val_loss: 0.5769 - val_accuracy: 0.7694\n",
            "Epoch 6/30\n",
            "50/50 [==============================] - 1s 15ms/step - loss: 0.2154 - accuracy: 0.9291 - val_loss: 0.7536 - val_accuracy: 0.7444\n",
            "Epoch 7/30\n",
            "50/50 [==============================] - 1s 14ms/step - loss: 0.1553 - accuracy: 0.9561 - val_loss: 0.7635 - val_accuracy: 0.7519\n",
            "Epoch 8/30\n",
            "50/50 [==============================] - 1s 13ms/step - loss: 0.1303 - accuracy: 0.9630 - val_loss: 0.7525 - val_accuracy: 0.7368\n",
            "Epoch 9/30\n",
            "50/50 [==============================] - 1s 14ms/step - loss: 0.1181 - accuracy: 0.9674 - val_loss: 0.8759 - val_accuracy: 0.7343\n",
            "Epoch 10/30\n",
            "50/50 [==============================] - 1s 14ms/step - loss: 0.1044 - accuracy: 0.9761 - val_loss: 1.0204 - val_accuracy: 0.7268\n",
            "Epoch 11/30\n",
            "50/50 [==============================] - 1s 13ms/step - loss: 0.0976 - accuracy: 0.9755 - val_loss: 0.9703 - val_accuracy: 0.7419\n",
            "Epoch 12/30\n",
            "50/50 [==============================] - 1s 14ms/step - loss: 0.0845 - accuracy: 0.9799 - val_loss: 0.9538 - val_accuracy: 0.7519\n",
            "Epoch 13/30\n",
            "50/50 [==============================] - 1s 13ms/step - loss: 0.1001 - accuracy: 0.9774 - val_loss: 1.1162 - val_accuracy: 0.7218\n",
            "Epoch 14/30\n",
            "50/50 [==============================] - 1s 13ms/step - loss: 0.0905 - accuracy: 0.9768 - val_loss: 0.9232 - val_accuracy: 0.7444\n",
            "Epoch 15/30\n",
            "50/50 [==============================] - 1s 14ms/step - loss: 0.0775 - accuracy: 0.9831 - val_loss: 0.9761 - val_accuracy: 0.7444\n",
            "Epoch 16/30\n",
            "50/50 [==============================] - 1s 13ms/step - loss: 0.0748 - accuracy: 0.9805 - val_loss: 0.9810 - val_accuracy: 0.7393\n",
            "Epoch 17/30\n",
            "50/50 [==============================] - 1s 14ms/step - loss: 0.0782 - accuracy: 0.9805 - val_loss: 1.0346 - val_accuracy: 0.7544\n",
            "Epoch 18/30\n",
            "50/50 [==============================] - 1s 13ms/step - loss: 0.0657 - accuracy: 0.9856 - val_loss: 1.0240 - val_accuracy: 0.7669\n",
            "Epoch 19/30\n",
            "50/50 [==============================] - 1s 14ms/step - loss: 0.0577 - accuracy: 0.9887 - val_loss: 1.2315 - val_accuracy: 0.7494\n",
            "Epoch 20/30\n",
            "50/50 [==============================] - 1s 13ms/step - loss: 0.0536 - accuracy: 0.9887 - val_loss: 1.1004 - val_accuracy: 0.7619\n",
            "Epoch 21/30\n",
            "50/50 [==============================] - 1s 13ms/step - loss: 0.0510 - accuracy: 0.9893 - val_loss: 1.1940 - val_accuracy: 0.7519\n",
            "Epoch 22/30\n",
            "50/50 [==============================] - 1s 14ms/step - loss: 0.0494 - accuracy: 0.9900 - val_loss: 1.2113 - val_accuracy: 0.7494\n",
            "Epoch 23/30\n",
            "50/50 [==============================] - 1s 14ms/step - loss: 0.0487 - accuracy: 0.9900 - val_loss: 1.2352 - val_accuracy: 0.7569\n",
            "Epoch 24/30\n",
            "50/50 [==============================] - 1s 14ms/step - loss: 0.0482 - accuracy: 0.9900 - val_loss: 1.2588 - val_accuracy: 0.7544\n",
            "Epoch 25/30\n",
            "50/50 [==============================] - 1s 13ms/step - loss: 0.0477 - accuracy: 0.9900 - val_loss: 1.2929 - val_accuracy: 0.7544\n",
            "Epoch 26/30\n",
            "50/50 [==============================] - 1s 13ms/step - loss: 0.0453 - accuracy: 0.9906 - val_loss: 1.3231 - val_accuracy: 0.7544\n",
            "Epoch 27/30\n",
            "50/50 [==============================] - 1s 14ms/step - loss: 0.0420 - accuracy: 0.9912 - val_loss: 1.3363 - val_accuracy: 0.7494\n",
            "Epoch 28/30\n",
            "50/50 [==============================] - 1s 15ms/step - loss: 0.0409 - accuracy: 0.9912 - val_loss: 1.3574 - val_accuracy: 0.7469\n",
            "Epoch 29/30\n",
            "50/50 [==============================] - 1s 14ms/step - loss: 0.0398 - accuracy: 0.9912 - val_loss: 1.3676 - val_accuracy: 0.7469\n",
            "Epoch 30/30\n",
            "50/50 [==============================] - 1s 14ms/step - loss: 0.0391 - accuracy: 0.9912 - val_loss: 1.3990 - val_accuracy: 0.7519\n"
          ],
          "name": "stdout"
        },
        {
          "output_type": "display_data",
          "data": {
            "image/png": "[encoded data removed]",
            "text/plain": [
              "<Figure size 432x288 with 1 Axes>"
            ]
          },
          "metadata": {
            "tags": [],
            "needs_background": "light"
          }
        },
        {
          "output_type": "display_data",
          "data": {
            "image/png": "[encoded data removed]",
            "text/plain": [
              "<Figure size 432x288 with 1 Axes>"
            ]
          },
          "metadata": {
            "tags": [],
            "needs_background": "light"
          }
        },
        {
          "output_type": "stream",
          "text": [
            "[  4 281  16  25   0   0   0   0   0   0   0   0   0   0   0   0   0   0\n",
            "   0   0   0   0   0   0   0   0   0   0   0   0   0   0   0   0   0   0\n",
            "   0   0   0   0   0   0   0   0   0   0   0   0   0   0]\n",
            "I love this phone\n",
            "[0.99983776]\n",
            "\n",
            "\n",
            "[812 227 864 100 775   9 525 843   0   0   0   0   0   0   0   0   0   0\n",
            "   0   0   0   0   0   0   0   0   0   0   0   0   0   0   0   0   0   0\n",
            "   0   0   0   0   0   0   0   0   0   0   0   0   0   0]\n",
            "Everything was cold\n",
            "[0.01361502]\n",
            "\n",
            "\n",
            "[812 227 864 100 775   9 109   8 333 731  24  61   4 171  59  77   0   0\n",
            "   0   0   0   0   0   0   0   0   0   0   0   0   0   0   0   0   0   0\n",
            "   0   0   0   0   0   0   0   0   0   0   0   0   0   0]\n",
            "Everything was hot exactly as I wanted\n",
            "[0.0111205]\n",
            "\n",
            "\n",
            "[812 227 864 100 775   9 157 359 853   0   0   0   0   0   0   0   0   0\n",
            "   0   0   0   0   0   0   0   0   0   0   0   0   0   0   0   0   0   0\n",
            "   0   0   0   0   0   0   0   0   0   0   0   0   0   0]\n",
            "Everything was green\n",
            "[0.01382927]\n",
            "\n",
            "\n",
            "[  1 109 228 540 237 635 241 423 340  89 298   0   0   0   0   0   0   0\n",
            "   0   0   0   0   0   0   0   0   0   0   0   0   0   0   0   0   0   0\n",
            "   0   0   0   0   0   0   0   0   0   0   0   0   0   0]\n",
            "the host seated us immediately\n",
            "[0.01484415]\n",
            "\n",
            "\n",
            "[154 242  47 635 341  12 569 547 147 319 775 125  85   0   0   0   0   0\n",
            "   0   0   0   0   0   0   0   0   0   0   0   0   0   0   0   0   0   0\n",
            "   0   0   0   0   0   0   0   0   0   0   0   0   0   0]\n",
            "they gave us free chocolate cake\n",
            "[0.99982697]\n",
            "\n",
            "\n",
            "[158 190 853 782   8 607 775 210 232 146 775 470  67 305 101  15   1 328\n",
            " 296  26  19   1 661 641 195   0   0   0   0   0   0   0   0   0   0   0\n",
            "   0   0   0   0   0   0   0   0   0   0   0   0   0   0]\n",
            "we couldn't hear each other talk because of the shouting in the kitchen\n",
            "[0.01131625]\n",
            "\n",
            "\n"
          ],
          "name": "stdout"
        }
      ]
    },
    {
      "cell_type": "code",
      "metadata": {
        "id": "wrIeR0agE7LL",
        "colab_type": "code",
        "colab": {}
      },
      "source": [
        "my_reviews =[\"lovely\", \"dreadful\", \"stay away\",\n",
        "             \"everything was hot exactly as I wanted\",\n",
        "             \"everything was not exactly as I wanted\",\n",
        "             \"they gave us free chocolate cake\",\n",
        "             \"I've never eaten anything so spicy in my life, my throat burned for hours\",\n",
        "             \"for a phone that is as expensive as this one I expect it to be much easier to use than this thing is\",\n",
        "             \"we left there very full for a low price so I'd say you just can't go wrong at this place\",\n",
        "             \"that place does not have quality meals and it isn't a good place to go for dinner\",\n",
        "             ]"
      ],
      "execution_count": 25,
      "outputs": []
    },
    {
      "cell_type": "code",
      "metadata": {
        "id": "3pZHBDZXFBRb",
        "colab_type": "code",
        "colab": {
          "base_uri": "https://localhost:8080/",
          "height": 748
        },
        "outputId": "6026a2d4-72b4-4532-c2be-603f609166b9"
      },
      "source": [
        "print(\"===================================\\n\",\"Embeddings only:\\n\", \"===================================\",)\n",
        "predict_review(model, my_reviews, show_padded_sequence=False)"
      ],
      "execution_count": 26,
      "outputs": [
        {
          "output_type": "stream",
          "text": [
            "===================================\n",
            " Embeddings only:\n",
            " ===================================\n",
            "lovely\n",
            "[0.91780776]\n",
            "\n",
            "\n",
            "dreadful\n",
            "[0.28161028]\n",
            "\n",
            "\n",
            "stay away\n",
            "[0.6425401]\n",
            "\n",
            "\n",
            "everything was hot exactly as I wanted\n",
            "[0.7495806]\n",
            "\n",
            "\n",
            "everything was not exactly as I wanted\n",
            "[0.4378547]\n",
            "\n",
            "\n",
            "they gave us free chocolate cake\n",
            "[0.7415764]\n",
            "\n",
            "\n",
            "I've never eaten anything so spicy in my life, my throat burned for hours\n",
            "[0.05180862]\n",
            "\n",
            "\n",
            "for a phone that is as expensive as this one I expect it to be much easier to use than this thing is\n",
            "[0.36083278]\n",
            "\n",
            "\n",
            "we left there very full for a low price so I'd say you just can't go wrong at this place\n",
            "[0.6877872]\n",
            "\n",
            "\n",
            "that place does not have quality meals and it isn't a good place to go for dinner\n",
            "[0.8193258]\n",
            "\n",
            "\n"
          ],
          "name": "stdout"
        }
      ]
    },
    {
      "cell_type": "code",
      "metadata": {
        "id": "LxlGUNTVFDmT",
        "colab_type": "code",
        "colab": {
          "base_uri": "https://localhost:8080/",
          "height": 748
        },
        "outputId": "4cd80ecc-dec2-4317-dfa8-7d875299c63f"
      },
      "source": [
        "print(\"===================================\\n\", \"With a single bidirectional LSTM:\\n\", \"===================================\")\n",
        "predict_review(model_bidi_lstm, my_reviews, show_padded_sequence=False)"
      ],
      "execution_count": 27,
      "outputs": [
        {
          "output_type": "stream",
          "text": [
            "===================================\n",
            " With a single bidirectional LSTM:\n",
            " ===================================\n",
            "lovely\n",
            "[0.9948631]\n",
            "\n",
            "\n",
            "dreadful\n",
            "[0.0063751]\n",
            "\n",
            "\n",
            "stay away\n",
            "[0.01234316]\n",
            "\n",
            "\n",
            "everything was hot exactly as I wanted\n",
            "[0.9670758]\n",
            "\n",
            "\n",
            "everything was not exactly as I wanted\n",
            "[0.04774205]\n",
            "\n",
            "\n",
            "they gave us free chocolate cake\n",
            "[0.9955381]\n",
            "\n",
            "\n",
            "I've never eaten anything so spicy in my life, my throat burned for hours\n",
            "[0.07942035]\n",
            "\n",
            "\n",
            "for a phone that is as expensive as this one I expect it to be much easier to use than this thing is\n",
            "[0.00520774]\n",
            "\n",
            "\n",
            "we left there very full for a low price so I'd say you just can't go wrong at this place\n",
            "[0.99997914]\n",
            "\n",
            "\n",
            "that place does not have quality meals and it isn't a good place to go for dinner\n",
            "[0.87424016]\n",
            "\n",
            "\n"
          ],
          "name": "stdout"
        }
      ]
    },
    {
      "cell_type": "code",
      "metadata": {
        "id": "xf_jP7jlFPGT",
        "colab_type": "code",
        "colab": {
          "base_uri": "https://localhost:8080/",
          "height": 748
        },
        "outputId": "7a4e16ce-0a66-4c2a-8e58-8c28346024ac"
      },
      "source": [
        "print(\"===================================\\n\",\"With two bidirectional LSTMs:\\n\", \"===================================\")\n",
        "predict_review(model_multiple_bidi_lstm, my_reviews, show_padded_sequence=False)"
      ],
      "execution_count": 28,
      "outputs": [
        {
          "output_type": "stream",
          "text": [
            "===================================\n",
            " With two bidirectional LSTMs:\n",
            " ===================================\n",
            "lovely\n",
            "[0.9998247]\n",
            "\n",
            "\n",
            "dreadful\n",
            "[0.01155635]\n",
            "\n",
            "\n",
            "stay away\n",
            "[0.01208186]\n",
            "\n",
            "\n",
            "everything was hot exactly as I wanted\n",
            "[0.16023351]\n",
            "\n",
            "\n",
            "everything was not exactly as I wanted\n",
            "[0.01093149]\n",
            "\n",
            "\n",
            "they gave us free chocolate cake\n",
            "[0.99982697]\n",
            "\n",
            "\n",
            "I've never eaten anything so spicy in my life, my throat burned for hours\n",
            "[0.00976201]\n",
            "\n",
            "\n",
            "for a phone that is as expensive as this one I expect it to be much easier to use than this thing is\n",
            "[0.01030274]\n",
            "\n",
            "\n",
            "we left there very full for a low price so I'd say you just can't go wrong at this place\n",
            "[0.01118811]\n",
            "\n",
            "\n",
            "that place does not have quality meals and it isn't a good place to go for dinner\n",
            "[0.01158466]\n",
            "\n",
            "\n"
          ],
          "name": "stdout"
        }
      ]
    },
    {
      "cell_type": "code",
      "metadata": {
        "id": "ljvGrRGlFQdb",
        "colab_type": "code",
        "colab": {}
      },
      "source": [
        ""
      ],
      "execution_count": null,
      "outputs": []
    }
  ]
}