{
  "nbformat": 4,
  "nbformat_minor": 0,
  "metadata": {
    "colab": {
      "name": "numpy1.ipynb",
      "version": "0.3.2",
      "provenance": [],
      "include_colab_link": true
    },
    "kernelspec": {
      "name": "python3",
      "display_name": "Python 3"
    }
  },
  "cells": [
    {
      "cell_type": "markdown",
      "metadata": {
        "id": "view-in-github",
        "colab_type": "text"
      },
      "source": [
        "[View in Colaboratory](https://colab.research.google.com/github/partha1189/ml/blob/master/numpy1.ipynb)"
      ]
    },
    {
      "metadata": {
        "id": "_IO6n9lCmThX",
        "colab_type": "code",
        "colab": {
          "base_uri": "https://localhost:8080/",
          "height": 34
        },
        "outputId": "bed98786-272e-4e1a-9c30-714e998a6b6f"
      },
      "cell_type": "code",
      "source": [
        "my_list = [1,2,3,4]\n",
        "import numpy as np\n",
        "arr = np.array(my_list)\n",
        "print(arr)"
      ],
      "execution_count": 1,
      "outputs": [
        {
          "output_type": "stream",
          "text": [
            "[1 2 3 4]\n"
          ],
          "name": "stdout"
        }
      ]
    },
    {
      "metadata": {
        "id": "B24w604fnijP",
        "colab_type": "code",
        "colab": {
          "base_uri": "https://localhost:8080/",
          "height": 1054
        },
        "outputId": "86d28906-e310-4d18-ce9c-8806c5a8e4f6"
      },
      "cell_type": "code",
      "source": [
        "help(np.arange)\n"
      ],
      "execution_count": 2,
      "outputs": [
        {
          "output_type": "stream",
          "text": [
            "Help on built-in function arange in module numpy.core.multiarray:\n",
            "\n",
            "arange(...)\n",
            "    arange([start,] stop[, step,], dtype=None)\n",
            "    \n",
            "    Return evenly spaced values within a given interval.\n",
            "    \n",
            "    Values are generated within the half-open interval ``[start, stop)``\n",
            "    (in other words, the interval including `start` but excluding `stop`).\n",
            "    For integer arguments the function is equivalent to the Python built-in\n",
            "    `range <http://docs.python.org/lib/built-in-funcs.html>`_ function,\n",
            "    but returns an ndarray rather than a list.\n",
            "    \n",
            "    When using a non-integer step, such as 0.1, the results will often not\n",
            "    be consistent.  It is better to use ``linspace`` for these cases.\n",
            "    \n",
            "    Parameters\n",
            "    ----------\n",
            "    start : number, optional\n",
            "        Start of interval.  The interval includes this value.  The default\n",
            "        start value is 0.\n",
            "    stop : number\n",
            "        End of interval.  The interval does not include this value, except\n",
            "        in some cases where `step` is not an integer and floating point\n",
            "        round-off affects the length of `out`.\n",
            "    step : number, optional\n",
            "        Spacing between values.  For any output `out`, this is the distance\n",
            "        between two adjacent values, ``out[i+1] - out[i]``.  The default\n",
            "        step size is 1.  If `step` is specified as a position argument,\n",
            "        `start` must also be given.\n",
            "    dtype : dtype\n",
            "        The type of the output array.  If `dtype` is not given, infer the data\n",
            "        type from the other input arguments.\n",
            "    \n",
            "    Returns\n",
            "    -------\n",
            "    arange : ndarray\n",
            "        Array of evenly spaced values.\n",
            "    \n",
            "        For floating point arguments, the length of the result is\n",
            "        ``ceil((stop - start)/step)``.  Because of floating point overflow,\n",
            "        this rule may result in the last element of `out` being greater\n",
            "        than `stop`.\n",
            "    \n",
            "    See Also\n",
            "    --------\n",
            "    linspace : Evenly spaced numbers with careful handling of endpoints.\n",
            "    ogrid: Arrays of evenly spaced numbers in N-dimensions.\n",
            "    mgrid: Grid-shaped arrays of evenly spaced numbers in N-dimensions.\n",
            "    \n",
            "    Examples\n",
            "    --------\n",
            "    >>> np.arange(3)\n",
            "    array([0, 1, 2])\n",
            "    >>> np.arange(3.0)\n",
            "    array([ 0.,  1.,  2.])\n",
            "    >>> np.arange(3,7)\n",
            "    array([3, 4, 5, 6])\n",
            "    >>> np.arange(3,7,2)\n",
            "    array([3, 5])\n",
            "\n"
          ],
          "name": "stdout"
        }
      ]
    },
    {
      "metadata": {
        "id": "SCJ_pt9Km2Hb",
        "colab_type": "code",
        "colab": {
          "base_uri": "https://localhost:8080/",
          "height": 34
        },
        "outputId": "8443bf3a-ed96-464f-d92d-8369abfe6f25"
      },
      "cell_type": "code",
      "source": [
        "np.arange(4,13,2)"
      ],
      "execution_count": 3,
      "outputs": [
        {
          "output_type": "execute_result",
          "data": {
            "text/plain": [
              "array([ 4,  6,  8, 10, 12])"
            ]
          },
          "metadata": {
            "tags": []
          },
          "execution_count": 3
        }
      ]
    },
    {
      "metadata": {
        "id": "wNkcLeCCoShz",
        "colab_type": "code",
        "colab": {
          "base_uri": "https://localhost:8080/",
          "height": 85
        },
        "outputId": "57b1b65a-f897-48c3-fb99-cd74fa41f172"
      },
      "cell_type": "code",
      "source": [
        "np.zeros((4,3))"
      ],
      "execution_count": 4,
      "outputs": [
        {
          "output_type": "execute_result",
          "data": {
            "text/plain": [
              "array([[0., 0., 0.],\n",
              "       [0., 0., 0.],\n",
              "       [0., 0., 0.],\n",
              "       [0., 0., 0.]])"
            ]
          },
          "metadata": {
            "tags": []
          },
          "execution_count": 4
        }
      ]
    },
    {
      "metadata": {
        "id": "ImYWGVE_oZiq",
        "colab_type": "code",
        "colab": {
          "base_uri": "https://localhost:8080/",
          "height": 51
        },
        "outputId": "ce0247ed-61bb-4f97-ab38-4ea0dcf97e6b"
      },
      "cell_type": "code",
      "source": [
        "np.linspace(0,5,10)"
      ],
      "execution_count": 5,
      "outputs": [
        {
          "output_type": "execute_result",
          "data": {
            "text/plain": [
              "array([0.        , 0.55555556, 1.11111111, 1.66666667, 2.22222222,\n",
              "       2.77777778, 3.33333333, 3.88888889, 4.44444444, 5.        ])"
            ]
          },
          "metadata": {
            "tags": []
          },
          "execution_count": 5
        }
      ]
    },
    {
      "metadata": {
        "id": "k-y7AJt0owhj",
        "colab_type": "code",
        "colab": {
          "base_uri": "https://localhost:8080/",
          "height": 85
        },
        "outputId": "63f28226-7c90-4c34-f838-9d131ed5fbac"
      },
      "cell_type": "code",
      "source": [
        "np.eye(4)"
      ],
      "execution_count": 6,
      "outputs": [
        {
          "output_type": "execute_result",
          "data": {
            "text/plain": [
              "array([[1., 0., 0., 0.],\n",
              "       [0., 1., 0., 0.],\n",
              "       [0., 0., 1., 0.],\n",
              "       [0., 0., 0., 1.]])"
            ]
          },
          "metadata": {
            "tags": []
          },
          "execution_count": 6
        }
      ]
    },
    {
      "metadata": {
        "id": "smYaeUDOo_Yy",
        "colab_type": "code",
        "colab": {
          "base_uri": "https://localhost:8080/",
          "height": 51
        },
        "outputId": "f2aca9d5-edd6-47aa-fa38-2aadd1749dec"
      },
      "cell_type": "code",
      "source": [
        "np.random.rand(2,2)"
      ],
      "execution_count": 7,
      "outputs": [
        {
          "output_type": "execute_result",
          "data": {
            "text/plain": [
              "array([[0.59185295, 0.02958281],\n",
              "       [0.15097547, 0.77232064]])"
            ]
          },
          "metadata": {
            "tags": []
          },
          "execution_count": 7
        }
      ]
    },
    {
      "metadata": {
        "id": "FEEZ3dTTpemK",
        "colab_type": "code",
        "colab": {
          "base_uri": "https://localhost:8080/",
          "height": 34
        },
        "outputId": "0ac21710-5ca2-4ac2-8cb0-d31e7a3d272a"
      },
      "cell_type": "code",
      "source": [
        "np.random.randn(5)"
      ],
      "execution_count": 8,
      "outputs": [
        {
          "output_type": "execute_result",
          "data": {
            "text/plain": [
              "array([ 0.86148432, -0.04098502,  0.0111561 , -0.34287288,  0.69055223])"
            ]
          },
          "metadata": {
            "tags": []
          },
          "execution_count": 8
        }
      ]
    },
    {
      "metadata": {
        "id": "-jK20fC7pkJy",
        "colab_type": "code",
        "colab": {}
      },
      "cell_type": "code",
      "source": [
        ""
      ],
      "execution_count": 0,
      "outputs": []
    }
  ]
}